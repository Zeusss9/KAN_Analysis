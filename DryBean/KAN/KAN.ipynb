{
 "cells": [
  {
   "cell_type": "code",
   "execution_count": 1,
   "id": "f6962968",
   "metadata": {},
   "outputs": [],
   "source": [
    "import sys\n",
    "sys.path.append('../')\n",
    "from kan import KAN"
   ]
  },
  {
   "cell_type": "code",
   "execution_count": 2,
   "id": "e2247a66",
   "metadata": {},
   "outputs": [],
   "source": [
    "import pandas as pd\n",
    "import numpy as np\n",
    "import matplotlib.pyplot as plt\n",
    "from sklearn.model_selection import train_test_split\n",
    "from sklearn.preprocessing import LabelEncoder, StandardScaler\n",
    "from tensorflow.keras.models import Sequential\n",
    "from tensorflow.keras.layers import Dense\n",
    "from tensorflow.keras.utils import to_categorical\n",
    "from sklearn.metrics import confusion_matrix, ConfusionMatrixDisplay\n",
    "from keras.optimizers import Adam\n",
    "from keras.callbacks import EarlyStopping\n",
    "from imblearn.over_sampling import SMOTE\n",
    "import torch\n",
    "import sympy as sp\n",
    "from mpmath import mp, mpf"
   ]
  },
  {
   "cell_type": "code",
   "execution_count": 3,
   "id": "dedc640b",
   "metadata": {},
   "outputs": [
    {
     "data": {
      "text/html": [
       "<div>\n",
       "<style scoped>\n",
       "    .dataframe tbody tr th:only-of-type {\n",
       "        vertical-align: middle;\n",
       "    }\n",
       "\n",
       "    .dataframe tbody tr th {\n",
       "        vertical-align: top;\n",
       "    }\n",
       "\n",
       "    .dataframe thead th {\n",
       "        text-align: right;\n",
       "    }\n",
       "</style>\n",
       "<table border=\"1\" class=\"dataframe\">\n",
       "  <thead>\n",
       "    <tr style=\"text-align: right;\">\n",
       "      <th></th>\n",
       "      <th>Area</th>\n",
       "      <th>Perimeter</th>\n",
       "      <th>MajorAxisLength</th>\n",
       "      <th>MinorAxisLength</th>\n",
       "      <th>AspectRation</th>\n",
       "      <th>Eccentricity</th>\n",
       "      <th>ConvexArea</th>\n",
       "      <th>EquivDiameter</th>\n",
       "      <th>Extent</th>\n",
       "      <th>Solidity</th>\n",
       "      <th>roundness</th>\n",
       "      <th>Compactness</th>\n",
       "      <th>ShapeFactor1</th>\n",
       "      <th>ShapeFactor2</th>\n",
       "      <th>ShapeFactor3</th>\n",
       "      <th>ShapeFactor4</th>\n",
       "      <th>Class</th>\n",
       "    </tr>\n",
       "  </thead>\n",
       "  <tbody>\n",
       "    <tr>\n",
       "      <th>0</th>\n",
       "      <td>28395</td>\n",
       "      <td>610.291</td>\n",
       "      <td>208.178117</td>\n",
       "      <td>173.888747</td>\n",
       "      <td>1.197191</td>\n",
       "      <td>0.549812</td>\n",
       "      <td>28715</td>\n",
       "      <td>190.141097</td>\n",
       "      <td>0.763923</td>\n",
       "      <td>0.988856</td>\n",
       "      <td>0.958027</td>\n",
       "      <td>0.913358</td>\n",
       "      <td>0.007332</td>\n",
       "      <td>0.003147</td>\n",
       "      <td>0.834222</td>\n",
       "      <td>0.998724</td>\n",
       "      <td>SEKER</td>\n",
       "    </tr>\n",
       "    <tr>\n",
       "      <th>1</th>\n",
       "      <td>28734</td>\n",
       "      <td>638.018</td>\n",
       "      <td>200.524796</td>\n",
       "      <td>182.734419</td>\n",
       "      <td>1.097356</td>\n",
       "      <td>0.411785</td>\n",
       "      <td>29172</td>\n",
       "      <td>191.272750</td>\n",
       "      <td>0.783968</td>\n",
       "      <td>0.984986</td>\n",
       "      <td>0.887034</td>\n",
       "      <td>0.953861</td>\n",
       "      <td>0.006979</td>\n",
       "      <td>0.003564</td>\n",
       "      <td>0.909851</td>\n",
       "      <td>0.998430</td>\n",
       "      <td>SEKER</td>\n",
       "    </tr>\n",
       "    <tr>\n",
       "      <th>2</th>\n",
       "      <td>29380</td>\n",
       "      <td>624.110</td>\n",
       "      <td>212.826130</td>\n",
       "      <td>175.931143</td>\n",
       "      <td>1.209713</td>\n",
       "      <td>0.562727</td>\n",
       "      <td>29690</td>\n",
       "      <td>193.410904</td>\n",
       "      <td>0.778113</td>\n",
       "      <td>0.989559</td>\n",
       "      <td>0.947849</td>\n",
       "      <td>0.908774</td>\n",
       "      <td>0.007244</td>\n",
       "      <td>0.003048</td>\n",
       "      <td>0.825871</td>\n",
       "      <td>0.999066</td>\n",
       "      <td>SEKER</td>\n",
       "    </tr>\n",
       "    <tr>\n",
       "      <th>3</th>\n",
       "      <td>30008</td>\n",
       "      <td>645.884</td>\n",
       "      <td>210.557999</td>\n",
       "      <td>182.516516</td>\n",
       "      <td>1.153638</td>\n",
       "      <td>0.498616</td>\n",
       "      <td>30724</td>\n",
       "      <td>195.467062</td>\n",
       "      <td>0.782681</td>\n",
       "      <td>0.976696</td>\n",
       "      <td>0.903936</td>\n",
       "      <td>0.928329</td>\n",
       "      <td>0.007017</td>\n",
       "      <td>0.003215</td>\n",
       "      <td>0.861794</td>\n",
       "      <td>0.994199</td>\n",
       "      <td>SEKER</td>\n",
       "    </tr>\n",
       "    <tr>\n",
       "      <th>4</th>\n",
       "      <td>30140</td>\n",
       "      <td>620.134</td>\n",
       "      <td>201.847882</td>\n",
       "      <td>190.279279</td>\n",
       "      <td>1.060798</td>\n",
       "      <td>0.333680</td>\n",
       "      <td>30417</td>\n",
       "      <td>195.896503</td>\n",
       "      <td>0.773098</td>\n",
       "      <td>0.990893</td>\n",
       "      <td>0.984877</td>\n",
       "      <td>0.970516</td>\n",
       "      <td>0.006697</td>\n",
       "      <td>0.003665</td>\n",
       "      <td>0.941900</td>\n",
       "      <td>0.999166</td>\n",
       "      <td>SEKER</td>\n",
       "    </tr>\n",
       "  </tbody>\n",
       "</table>\n",
       "</div>"
      ],
      "text/plain": [
       "    Area  Perimeter  MajorAxisLength  MinorAxisLength  AspectRation  \\\n",
       "0  28395    610.291       208.178117       173.888747      1.197191   \n",
       "1  28734    638.018       200.524796       182.734419      1.097356   \n",
       "2  29380    624.110       212.826130       175.931143      1.209713   \n",
       "3  30008    645.884       210.557999       182.516516      1.153638   \n",
       "4  30140    620.134       201.847882       190.279279      1.060798   \n",
       "\n",
       "   Eccentricity  ConvexArea  EquivDiameter    Extent  Solidity  roundness  \\\n",
       "0      0.549812       28715     190.141097  0.763923  0.988856   0.958027   \n",
       "1      0.411785       29172     191.272750  0.783968  0.984986   0.887034   \n",
       "2      0.562727       29690     193.410904  0.778113  0.989559   0.947849   \n",
       "3      0.498616       30724     195.467062  0.782681  0.976696   0.903936   \n",
       "4      0.333680       30417     195.896503  0.773098  0.990893   0.984877   \n",
       "\n",
       "   Compactness  ShapeFactor1  ShapeFactor2  ShapeFactor3  ShapeFactor4  Class  \n",
       "0     0.913358      0.007332      0.003147      0.834222      0.998724  SEKER  \n",
       "1     0.953861      0.006979      0.003564      0.909851      0.998430  SEKER  \n",
       "2     0.908774      0.007244      0.003048      0.825871      0.999066  SEKER  \n",
       "3     0.928329      0.007017      0.003215      0.861794      0.994199  SEKER  \n",
       "4     0.970516      0.006697      0.003665      0.941900      0.999166  SEKER  "
      ]
     },
     "execution_count": 3,
     "metadata": {},
     "output_type": "execute_result"
    }
   ],
   "source": [
    "data = pd.read_excel(\"./Dry_Bean_Dataset/Dry_Bean_Dataset.xlsx\")\n",
    "data.head()"
   ]
  },
  {
   "cell_type": "code",
   "execution_count": 4,
   "id": "afd73d21",
   "metadata": {},
   "outputs": [
    {
     "data": {
      "text/plain": [
       "Class\n",
       "DERMASON    3546\n",
       "SIRA        2636\n",
       "SEKER       2027\n",
       "HOROZ       1928\n",
       "CALI        1630\n",
       "BARBUNYA    1322\n",
       "BOMBAY       522\n",
       "Name: count, dtype: int64"
      ]
     },
     "execution_count": 4,
     "metadata": {},
     "output_type": "execute_result"
    }
   ],
   "source": [
    "data[\"Class\"].value_counts()"
   ]
  },
  {
   "cell_type": "code",
   "execution_count": 5,
   "id": "05dd63bd",
   "metadata": {},
   "outputs": [
    {
     "data": {
      "text/plain": [
       "(13611, 17)"
      ]
     },
     "execution_count": 5,
     "metadata": {},
     "output_type": "execute_result"
    }
   ],
   "source": [
    "data.shape"
   ]
  },
  {
   "cell_type": "code",
   "execution_count": 6,
   "id": "9f546e04",
   "metadata": {},
   "outputs": [
    {
     "data": {
      "text/plain": [
       "Area               0\n",
       "Perimeter          0\n",
       "MajorAxisLength    0\n",
       "MinorAxisLength    0\n",
       "AspectRation       0\n",
       "Eccentricity       0\n",
       "ConvexArea         0\n",
       "EquivDiameter      0\n",
       "Extent             0\n",
       "Solidity           0\n",
       "roundness          0\n",
       "Compactness        0\n",
       "ShapeFactor1       0\n",
       "ShapeFactor2       0\n",
       "ShapeFactor3       0\n",
       "ShapeFactor4       0\n",
       "Class              0\n",
       "dtype: int64"
      ]
     },
     "execution_count": 6,
     "metadata": {},
     "output_type": "execute_result"
    }
   ],
   "source": [
    "data.isna().sum()"
   ]
  },
  {
   "cell_type": "code",
   "execution_count": 7,
   "id": "1e175ce6",
   "metadata": {},
   "outputs": [],
   "source": [
    "features = data.drop(\"Class\", axis=1)\n",
    "target = data[\"Class\"]"
   ]
  },
  {
   "cell_type": "code",
   "execution_count": 8,
   "id": "2500f32d",
   "metadata": {},
   "outputs": [
    {
     "data": {
      "text/plain": [
       "0           SEKER\n",
       "1           SEKER\n",
       "2           SEKER\n",
       "3           SEKER\n",
       "4           SEKER\n",
       "           ...   \n",
       "13606    DERMASON\n",
       "13607    DERMASON\n",
       "13608    DERMASON\n",
       "13609    DERMASON\n",
       "13610    DERMASON\n",
       "Name: Class, Length: 13611, dtype: object"
      ]
     },
     "execution_count": 8,
     "metadata": {},
     "output_type": "execute_result"
    }
   ],
   "source": [
    "target"
   ]
  },
  {
   "cell_type": "code",
   "execution_count": 9,
   "id": "937732c8",
   "metadata": {},
   "outputs": [],
   "source": [
    "features = data.drop(\"Class\", axis=1)\n",
    "target = data[\"Class\"]\n",
    "\n",
    "le = LabelEncoder()\n",
    "target_encoded = le.fit_transform(target)\n",
    "\n",
    "scaler = StandardScaler() # .set_output(transform=\"pandas\")\n",
    "features_scaled = scaler.fit_transform(features)\n",
    "\n",
    "X_train, X_test, y_train, y_test = train_test_split(features_scaled,\n",
    "                                                    target_encoded,\n",
    "                                                    test_size=0.2,\n",
    "                                                    random_state=42,\n",
    "                                                    shuffle=True,\n",
    "                                                    stratify=target_encoded)"
   ]
  },
  {
   "cell_type": "code",
   "execution_count": 10,
   "id": "63dc56d4",
   "metadata": {},
   "outputs": [
    {
     "name": "stdout",
     "output_type": "stream",
     "text": [
      "cuda\n"
     ]
    }
   ],
   "source": [
    "# device = 'cuda' if torch.cuda.is_available() else 'cpu'\n",
    "# device = 'cpu'\n",
    "device = 'cuda'\n",
    "\n",
    "print(device)"
   ]
  },
  {
   "cell_type": "code",
   "execution_count": 11,
   "id": "ff45d68e",
   "metadata": {},
   "outputs": [],
   "source": [
    "def check_accuracy(model: KAN, dataset: dict):\n",
    "    return torch.mean((torch.round(model(dataset['train_input'])[:,0]) == dataset['train_label'][:,0]).float()), torch.mean((torch.round(model(dataset['test_input'])[:,0]) == dataset['test_label'][:,0]).float())"
   ]
  },
  {
   "cell_type": "code",
   "execution_count": 12,
   "id": "436eec07",
   "metadata": {},
   "outputs": [],
   "source": [
    "dataset = {}\n",
    "dataset['train_input'] = torch.from_numpy(X_train).to(device)\n",
    "dataset['test_input'] = torch.from_numpy(X_test).to(device)\n",
    "dataset['train_label'] = torch.from_numpy(y_train).long().to(device)\n",
    "dataset['test_label'] = torch.from_numpy(y_test).long().to(device)"
   ]
  },
  {
   "cell_type": "code",
   "execution_count": 13,
   "id": "f55d648e",
   "metadata": {},
   "outputs": [
    {
     "name": "stdout",
     "output_type": "stream",
     "text": [
      "torch.Size([10888, 16])\n",
      "torch.Size([10888])\n",
      "torch.Size([2723, 16])\n",
      "torch.Size([2723])\n"
     ]
    }
   ],
   "source": [
    "print(dataset['train_input'].shape)\n",
    "print(dataset['train_label'].shape)\n",
    "print(dataset['test_input'].shape)\n",
    "print(dataset['test_label'].shape)"
   ]
  },
  {
   "cell_type": "code",
   "execution_count": null,
   "id": "952ff2c1",
   "metadata": {},
   "outputs": [],
   "source": [
    "model = KAN(width=[16,2,7], grid=6, k=3, device=device)\n",
    "\n",
    "def train_acc():\n",
    "    return torch.mean((torch.argmax(model(dataset['train_input']), dim=1) == dataset['train_label']).float())\n",
    "\n",
    "def test_acc():\n",
    "    return torch.mean((torch.argmax(model(dataset['test_input']), dim=1) == dataset['test_label']).float())\n",
    "\n",
    "results = model.train(dataset, opt=\"LBFGS\", steps=200, metrics=(train_acc, test_acc), loss_fn=torch.nn.CrossEntropyLoss(), lr=0.0002, device=device)\n",
    "print(\"Train accuracy:\", results['train_acc'][-1], \" - Test accuracy:\", results['test_acc'][-1])"
   ]
  },
  {
   "cell_type": "code",
   "execution_count": 15,
   "id": "d744cfa7",
   "metadata": {},
   "outputs": [
    {
     "name": "stdout",
     "output_type": "stream",
     "text": [
      "function , r2\n",
      "custom_26 , 0.9994375526942431\n",
      "custom_30 , 0.993428505085262\n",
      "custom_10 , 0.9921494273071799\n",
      "gaussian , 0.9917480311428325\n",
      "custom_15 , 0.9905268123035471\n",
      "function , r2\n",
      "custom_27 , 0.9996031019090259\n",
      "custom_28 , 0.9964652523892031\n",
      "custom_30 , 0.9959753069792274\n",
      "custom_25 , 0.9955090156022409\n",
      "custom_26 , 0.995241698805847\n",
      "function , r2\n",
      "custom_2 , 0.9940314081188463\n",
      "custom_28 , 0.9913784901958307\n",
      "custom_23 , 0.934583998585195\n",
      "custom_10 , 0.8911658415530632\n",
      "custom_30 , 0.8856934983471046\n",
      "function , r2\n",
      "custom_29 , 0.9942193529454237\n",
      "custom_5 , 0.9929932214215718\n",
      "custom_6 , 0.9694759575911313\n",
      "custom_13 , 0.9655861938752512\n",
      "custom_1 , 0.9579162155043786\n",
      "function , r2\n",
      "custom_30 , 0.9993073912630392\n",
      "custom_7 , 0.9915616371483578\n",
      "custom_8 , 0.9546515829966041\n",
      "custom_4 , 0.936722503307291\n",
      "custom_25 , 0.9301118310176558\n",
      "function , r2\n",
      "custom_33 , 0.9999948500903327\n",
      "custom_23 , 0.9998912870787362\n",
      "custom_9 , 0.9997792096968321\n",
      "custom_17 , 0.9996546345720452\n",
      "custom_7 , 0.9996110503668516\n"
     ]
    },
    {
     "data": {
      "text/plain": [
       "('custom_33',\n",
       " (<function kan.utils.<lambda>(x)>, <function kan.utils.<lambda>(x)>),\n",
       " 0.9999948500903327)"
      ]
     },
     "execution_count": 15,
     "metadata": {},
     "output_type": "execute_result"
    }
   ],
   "source": [
    "model.suggest_symbolic(1,0,0)\n",
    "model.suggest_symbolic(1,0,2)\n",
    "model.suggest_symbolic(0,8,1)\n",
    "model.suggest_symbolic(0,14,1)\n",
    "model.suggest_symbolic(0,8,0)\n",
    "model.suggest_symbolic(1,1,5)"
   ]
  },
  {
   "cell_type": "code",
   "execution_count": 16,
   "id": "c47ac2c7",
   "metadata": {},
   "outputs": [
    {
     "name": "stdout",
     "output_type": "stream",
     "text": [
      "function , r2\n",
      "custom_10 , 0.9908389964293289\n",
      "custom_28 , 0.9888288637939551\n",
      "custom_8 , 0.9671456837538552\n",
      "custom_2 , 0.9628077698035069\n",
      "custom_11 , 0.9598863111144825\n",
      "function , r2\n",
      "custom_29 , 0.9961651193839038\n",
      "custom_2 , 0.9952222371523524\n",
      "custom_9 , 0.9948717584101717\n",
      "custom_14 , 0.9944936082625115\n",
      "custom_26 , 0.9942060090963013\n",
      "function , r2\n",
      "custom_15 , 0.9959218935426571\n",
      "custom_16 , 0.9956181025442119\n",
      "arctanh , 0.9955252161645253\n",
      "arcsin , 0.9954627195611794\n",
      "sqrt , 0.995365169729193\n"
     ]
    },
    {
     "data": {
      "text/plain": [
       "('custom_15',\n",
       " (<function kan.utils.<lambda>(x)>, <function kan.utils.<lambda>(x)>),\n",
       " 0.9959218935426571)"
      ]
     },
     "execution_count": 16,
     "metadata": {},
     "output_type": "execute_result"
    }
   ],
   "source": [
    "model.suggest_symbolic(0,9,0)\n",
    "model.suggest_symbolic(0,12,0)\n",
    "model.suggest_symbolic(0,15,1)"
   ]
  },
  {
   "cell_type": "code",
   "execution_count": 17,
   "id": "49a36b64",
   "metadata": {},
   "outputs": [
    {
     "name": "stdout",
     "output_type": "stream",
     "text": [
      "r2 is 0.9993736765199082\n",
      "r2 is 0.9976477685163895\n",
      "r2 is 0.9940314081188463\n",
      "r2 is 0.999414909783709\n",
      "r2 is 0.9970250804390575\n",
      "r2 is 0.9929932214215718\n",
      "r2 is 0.9984417285188715\n",
      "r2 is 0.9990650474790466\n",
      "r2 is 0.9994690829671827\n",
      "r2 is 0.9908389964293289\n",
      "r2 is 0.9961581969619719\n",
      "r2 is 0.9998205955592893\n",
      "r2 is 0.9969907206687609\n",
      "r2 is 0.9995506480505414\n",
      "r2 is 0.9992690062367277\n",
      "r2 is 0.9977459724989439\n",
      "r2 is 0.9996770031123737\n",
      "r2 is 0.9952222371523524\n",
      "r2 is 0.99952642391605\n",
      "r2 is 0.9996529382250956\n",
      "r2 is 0.9973711609710695\n",
      "r2 is 0.9996201049260488\n",
      "r2 is 0.9997514195211953\n",
      "r2 is 0.9995351037375619\n",
      "r2 is 0.9998370572123041\n",
      "r2 is 0.9986143147230669\n",
      "r2 is 0.9980154608245461\n",
      "r2 is 0.997481030659041\n",
      "r2 is 0.9990777842095301\n",
      "r2 is 0.9994375526942431\n",
      "r2 is 0.9996031019090259\n",
      "r2 is 0.9993073912630392\n",
      "r2 is 0.9999948500903327\n"
     ]
    },
    {
     "data": {
      "text/plain": [
       "tensor(1.0000, device='cuda:0', dtype=torch.float64, grad_fn=<SelectBackward0>)"
      ]
     },
     "execution_count": 17,
     "metadata": {},
     "output_type": "execute_result"
    }
   ],
   "source": [
    "model.fix_symbolic(0,1,1,'custom_0')\n",
    "model.fix_symbolic(0,4,1,'custom_1')\n",
    "model.fix_symbolic(0,8,1,'custom_2')\n",
    "model.fix_symbolic(0,10,1,'custom_3')\n",
    "model.fix_symbolic(0,11,1,'custom_4')\n",
    "model.fix_symbolic(0,14,1,'custom_5')\n",
    "model.fix_symbolic(0,5,0,'custom_6')\n",
    "# model.fix_symbolic(0,8,0,'custom_7')\n",
    "model.fix_symbolic(0,15,0,'custom_8')\n",
    "model.fix_symbolic(1,0,1,'custom_9')\n",
    "model.fix_symbolic(0,9,0,'custom_10')\n",
    "model.fix_symbolic(1,0,6,'custom_11')\n",
    "model.fix_symbolic(1,1,6,'custom_12')\n",
    "model.fix_symbolic(0,2,1,'custom_13')\n",
    "model.fix_symbolic(0,3,0,'custom_14')\n",
    "model.fix_symbolic(0,3,1,'custom_15')\n",
    "model.fix_symbolic(0,7,0,'custom_16')\n",
    "model.fix_symbolic(0,7,1,'custom_17')\n",
    "model.fix_symbolic(0,12,0,'custom_2')\n",
    "model.fix_symbolic(0,12,1,'custom_19')\n",
    "\n",
    "model.fix_symbolic(0,13,0,'custom_20')\n",
    "model.fix_symbolic(0,14,0,'custom_19')\n",
    "model.fix_symbolic(1,0,3,'custom_19')\n",
    "model.fix_symbolic(1,0,5,'custom_23')\n",
    "model.fix_symbolic(1,1,1,'custom_2')\n",
    "model.fix_symbolic(1,1,2,'custom_25')\n",
    "\n",
    "model.fix_symbolic(0,0,1,'custom_0')\n",
    "model.fix_symbolic(0,1,0,'custom_20')\n",
    "model.fix_symbolic(0,6,1,'custom_10')\n",
    "model.fix_symbolic(0,10,0,'custom_4')\n",
    "\n",
    "model.fix_symbolic(1,0,0,'custom_26')\n",
    "model.fix_symbolic(1,0,2,'custom_27')\n",
    "# model.fix_symbolic(0,8,1,'custom_28')\n",
    "# model.fix_symbolic(0,14,1,'custom_29')\n",
    "model.fix_symbolic(0,8,0,'custom_30')\n",
    "# # model.fix_symbolic(0,9,0,'custom_31')\n",
    "# # model.fix_symbolic(0,12,0,'custom_25')\n",
    "# # model.fix_symbolic(0,15,1,'custom_25')\n",
    "model.fix_symbolic(1,1,5,'custom_33')"
   ]
  },
  {
   "cell_type": "code",
   "execution_count": 18,
   "id": "1e617f54",
   "metadata": {},
   "outputs": [
    {
     "name": "stdout",
     "output_type": "stream",
     "text": [
      "fixing (0,0,0) with gaussian, r2=0.9981476565455721\n",
      "skipping (0,0,1) since already symbolic\n",
      "skipping (0,1,0) since already symbolic\n",
      "skipping (0,1,1) since already symbolic\n",
      "fixing (0,2,0) with gaussian, r2=0.9997525012383789\n",
      "skipping (0,2,1) since already symbolic\n",
      "skipping (0,3,0) since already symbolic\n",
      "skipping (0,3,1) since already symbolic\n",
      "fixing (0,4,0) with arctan, r2=0.9982932162605482\n",
      "skipping (0,4,1) since already symbolic\n",
      "skipping (0,5,0) since already symbolic\n",
      "fixing (0,5,1) with tanh, r2=0.9994966763516928\n",
      "fixing (0,6,0) with relu, r2=0.9977310296337548\n",
      "skipping (0,6,1) since already symbolic\n",
      "skipping (0,7,0) since already symbolic\n",
      "skipping (0,7,1) since already symbolic\n",
      "skipping (0,8,0) since already symbolic\n",
      "skipping (0,8,1) since already symbolic\n",
      "skipping (0,9,0) since already symbolic\n",
      "fixing (0,9,1) with gaussian, r2=0.9965646999348321\n",
      "skipping (0,10,0) since already symbolic\n",
      "skipping (0,10,1) since already symbolic\n",
      "fixing (0,11,0) with sin, r2=0.9987168224211662\n",
      "skipping (0,11,1) since already symbolic\n",
      "skipping (0,12,0) since already symbolic\n",
      "skipping (0,12,1) since already symbolic\n",
      "skipping (0,13,0) since already symbolic\n",
      "fixing (0,13,1) with abs, r2=0.996782581934608\n",
      "skipping (0,14,0) since already symbolic\n",
      "skipping (0,14,1) since already symbolic\n",
      "skipping (0,15,0) since already symbolic\n",
      "fixing (0,15,1) with arctanh, r2=0.9955252161645253\n",
      "skipping (1,0,0) since already symbolic\n",
      "skipping (1,0,1) since already symbolic\n",
      "skipping (1,0,2) since already symbolic\n",
      "skipping (1,0,3) since already symbolic\n",
      "fixing (1,0,4) with gaussian, r2=0.9965189148868837\n",
      "skipping (1,0,5) since already symbolic\n",
      "skipping (1,0,6) since already symbolic\n",
      "fixing (1,1,0) with gaussian, r2=0.9987033701312802\n",
      "skipping (1,1,1) since already symbolic\n",
      "skipping (1,1,2) since already symbolic\n",
      "fixing (1,1,3) with sin, r2=0.9980563287995378\n",
      "fixing (1,1,4) with gaussian, r2=0.997989115896997\n",
      "skipping (1,1,5) since already symbolic\n",
      "skipping (1,1,6) since already symbolic\n"
     ]
    }
   ],
   "source": [
    "lib = ['x','x^2','x^3','1/x','sqrt','1/sqrt(x)','exp','log','abs','sin','tan','tanh','sigmoid','relu','sgn','arcsin','arctan','arctanh','0','gaussian','cosh']\n",
    "model.auto_symbolic(lib=lib)\n",
    "# model.auto_symbolic()"
   ]
  },
  {
   "cell_type": "code",
   "execution_count": 19,
   "id": "33792f14",
   "metadata": {},
   "outputs": [
    {
     "name": "stdout",
     "output_type": "stream",
     "text": [
      "Train accuracy: tensor(0.9265, device='cuda:0')  - Test accuracy: tensor(0.9243, device='cuda:0')\n"
     ]
    }
   ],
   "source": [
    "print(\"Train accuracy:\", train_acc(), \" - Test accuracy:\", test_acc())"
   ]
  },
  {
   "cell_type": "code",
   "execution_count": 20,
   "id": "d7c3ea74",
   "metadata": {},
   "outputs": [
    {
     "name": "stdout",
     "output_type": "stream",
     "text": [
      "save this model to ./model_ckpt/test_7_dry_bean_formula_symbolic.ckpt\n"
     ]
    }
   ],
   "source": [
    "model.save_ckpt('test_7_dry_bean_formula_symbolic.ckpt')"
   ]
  },
  {
   "cell_type": "code",
   "execution_count": 21,
   "id": "aec6b88a",
   "metadata": {},
   "outputs": [],
   "source": [
    "formula1, formula2, formula3, formula4, formula5, formula6, formula7 = model.symbolic_formula()[0]"
   ]
  },
  {
   "cell_type": "code",
   "execution_count": 22,
   "id": "8a66e73f",
   "metadata": {},
   "outputs": [
    {
     "name": "stdout",
     "output_type": "stream",
     "text": [
      "Formula1: 1.0*(0.97 - sin(sin(0.73*(0.55*sin(0.5*x_6) + 0.24)*log(sin(1.01*x_6 + 0.01) + 1.42) - 2.72*log(log(0.24*sin(0.91*exp(asinh(asinh(0.54*x_13 + 0.83)/cos(cos(0.13*exp(-0.54*x_13)))))) + 1) + 1) - 1.31*sin(0.33*x_12 + 5.14) + 0.74*sin(Abs(log(asinh(cos(log(Abs(1.01*x_10 - 0.41) + 1))) + 1)**3 + 0.14) - 0.11) - 0.78*sin(sin(0.98*x_8 - 1.27))**20 + 0.73*tan(1.76*atan(sin((-0.09*x_16 - sin(0.24*x_16 + 0.01)**3 - 0.59)**3)) + 3.02) - 0.73*tan(0.09*x_9 + 0.23*sin(-1.33*x_9 + 1.33*sin(1.0*x_9 - 0.34) + 0.93) - 0.03) - 0.78*tan(sinh(tanh(asinh(0.98*x_8 - 0.03) + 0.09)**7)) + 0.75*tan(asinh(atan(0.43*x_4 + 0.22*sin(0.91*x_4)**4 + 0.12)**2 - 0.06)) - 0.05*sinh(1.01*x_14 + 0.02) + 0.04*sinh(1.33*x_2 - 0.35) + 0.05*cosh(1.01*x_14 + 0.02) - 0.04*cosh(1.33*x_2 - 0.35) + 1.47*tanh((0.35*(0.52*x_11 + 1)**2/sqrt(0.27*(0.52*x_11 + 1)**4 + 1) - 0.4)*tanh(sinh(0.37*x_11 + 0.72) + 0.68) + 0.12) + 0.73*tanh(sinh(sinh(1.32*x_14 + 0.03))) - 0.59*tanh(sinh(sinh(1.72*x_2 - 0.46))) + 0.05*asinh(1.03*(x_14 + 0.02)**2)**3 - 0.04*asinh(1.76*(x_2 - 0.27)**2)**3 - 0.57*asinh(0.21*exp(0.84*x_15) - 0.32*sinh(cos(0.97*sinh(cos(0.95*x_15 - 0.63))))) + 0.7*atan(0.96*x_5 - 1.58) - 0.05*Max(0, 6.92*x_7 - 0.61) + 1.9 - 3.83*exp(-0.04*(-0.86*x_3 - 1)**2) + 1.4*exp(-0.07*(-x_1 - 0.45)**2))))*(-2.02*(0.55*sin(0.5*x_6) + 0.24)*log(sin(1.01*x_6 + 0.01) + 1.42) + 7.48*log(log(0.24*sin(0.91*exp(asinh(asinh(0.54*x_13 + 0.83)/cos(cos(0.13*exp(-0.54*x_13)))))) + 1) + 1) + 3.59*sin(0.33*x_12 + 5.14) - 2.02*sin(Abs(log(asinh(cos(log(Abs(1.01*x_10 - 0.41) + 1))) + 1)**3 + 0.14) - 0.11) + 2.14*sin(sin(0.98*x_8 - 1.27))**20 - 2.0*tan(1.76*atan(sin((-0.09*x_16 - sin(0.24*x_16 + 0.01)**3 - 0.59)**3)) + 3.02) + 2.01*tan(0.09*x_9 + 0.23*sin(-1.33*x_9 + 1.33*sin(1.0*x_9 - 0.34) + 0.93) - 0.03) + 2.14*tan(sinh(tanh(asinh(0.98*x_8 - 0.03) + 0.09)**7)) - 2.05*tan(asinh(atan(0.43*x_4 + 0.22*sin(0.91*x_4)**4 + 0.12)**2 - 0.06)) + 0.14*sinh(1.01*x_14 + 0.02) - 0.11*sinh(1.33*x_2 - 0.35) - 0.14*cosh(1.01*x_14 + 0.02) + 0.11*cosh(1.33*x_2 - 0.35) - 4.03*tanh((0.35*(0.52*x_11 + 1)**2/sqrt(0.27*(0.52*x_11 + 1)**4 + 1) - 0.4)*tanh(sinh(0.37*x_11 + 0.72) + 0.68) + 0.12) - 2.01*tanh(sinh(sinh(1.32*x_14 + 0.03))) + 1.61*tanh(sinh(sinh(1.72*x_2 - 0.46))) - 0.14*asinh(1.03*(x_14 + 0.02)**2)**3 + 0.11*asinh(1.76*(x_2 - 0.27)**2)**3 + 1.58*asinh(0.21*exp(0.84*x_15) - 0.32*sinh(cos(0.97*sinh(cos(0.95*x_15 - 0.63))))) - 1.93*atan(0.96*x_5 - 1.58) + 0.14*Max(0, 6.92*x_7 - 0.61) - 3.19 + 10.52*exp(-0.04*(-0.86*x_3 - 1)**2) - 3.84*exp(-0.07*(-x_1 - 0.45)**2)) + 1.0*sin(1.01*(0.55*sin(0.5*x_6) + 0.24)*log(sin(1.01*x_6 + 0.01) + 1.42) - 3.74*log(log(0.24*sin(0.91*exp(asinh(asinh(0.54*x_13 + 0.83)/cos(cos(0.13*exp(-0.54*x_13)))))) + 1) + 1) - 1.79*sin(0.33*x_12 + 5.14) + 1.01*sin(Abs(log(asinh(cos(log(Abs(1.01*x_10 - 0.41) + 1))) + 1)**3 + 0.14) - 0.11) - 1.07*sin(sin(0.98*x_8 - 1.27))**20 + 1.0*tan(1.76*atan(sin((-0.09*x_16 - sin(0.24*x_16 + 0.01)**3 - 0.59)**3)) + 3.02) - 1.01*tan(0.09*x_9 + 0.23*sin(-1.33*x_9 + 1.33*sin(1.0*x_9 - 0.34) + 0.93) - 0.03) - 1.07*tan(sinh(tanh(asinh(0.98*x_8 - 0.03) + 0.09)**7)) + 1.03*tan(asinh(atan(0.43*x_4 + 0.22*sin(0.91*x_4)**4 + 0.12)**2 - 0.06)) - 0.07*sinh(1.01*x_14 + 0.02) + 0.06*sinh(1.33*x_2 - 0.35) + 0.07*cosh(1.01*x_14 + 0.02) - 0.06*cosh(1.33*x_2 - 0.35) + 2.02*tanh((0.35*(0.52*x_11 + 1)**2/sqrt(0.27*(0.52*x_11 + 1)**4 + 1) - 0.4)*tanh(sinh(0.37*x_11 + 0.72) + 0.68) + 0.12) + 1.01*tanh(sinh(sinh(1.32*x_14 + 0.03))) - 0.81*tanh(sinh(sinh(1.72*x_2 - 0.46))) + 0.07*asinh(1.03*(x_14 + 0.02)**2)**3 - 0.06*asinh(1.76*(x_2 - 0.27)**2)**3 - 0.79*asinh(0.21*exp(0.84*x_15) - 0.32*sinh(cos(0.97*sinh(cos(0.95*x_15 - 0.63))))) + 0.96*atan(0.96*x_5 - 1.58) - 0.07*Max(0, 6.92*x_7 - 0.61) + 3.25 - 5.26*exp(-0.04*(-0.86*x_3 - 1)**2) + 1.92*exp(-0.07*(-x_1 - 0.45)**2)) - 2.51 + 4.12*exp(-14.77*(0.06*x_1 - 0.09*x_2 - 0.09*(-1.02*x_5 + sqrt(exp(atan(2.92*x_5 - 0.01))) - 1.45)*Abs(cos(1.02*x_5 + cos(0.42*x_5))) + 0.09*exp(0.41*x_11)*sin(0.27*cos(1.33*x_11 + 0.32) + 0.02) - 0.09*log(log(0.24*sin(0.91*exp(-asinh(asinh(1.0*x_9 + 1.21)/cos(cos(0.98*exp(1.0*x_9)))))) + 1) + 1) - sin(Abs(log(asinh(cos(log(Abs(0.71*x_7 - 0.18) + 1))) + 1)**3 + 0.14) - 0.11) - 0.09*sin(0.71*x_1 + sin(0.71*x_1 - 6.07) - 5.59) + 0.1*sin(1.01*x_2 + sin(1.01*x_2 - 0.28) + 0.19) - 0.09*tan((asinh(tanh(sin(0.94*tan(sin(1.01*x_8 - 0.14))))) + 0.17)*cos(asinh(1.01*x_8 - 0.e-2))) - 0.09*tan(tanh(asinh(0.97*x_3 + 0.02) + 0.64)**18 - 0.04)*tanh(cosh(cosh(sin(0.97*x_3 + 0.02)))) + 0.01*sinh(tan(tanh(tanh(1.0*x_15 + 0.01)*Abs(tan(cos(1.0*x_15 + 0.26)))) + 0.14)) + 0.08*tanh(0.82*x_6 - 1.16) + 0.09*tanh((0.66*x_12**2/sqrt(0.97*x_12**4 + 1) - 0.4)*tanh(sinh(0.99*x_12) + 0.68) + 0.12) - 0.01*Abs(7.68*x_14 + 8.67) - 0.09*asinh(0.32*exp(1.0*x_13) - 0.32*sinh(cos(0.97*sinh(cos(1.13*x_13 - 0.19))))) + 0.09*atan(0.62*Abs(0.99*x_4 + sinh(sin(sin(atan(0.78*sinh(0.99*x_4 - 2.14))**2))) - 0.02))**3 - 0.08*atanh(0.16*x_16 + 0.73) + 0.79 + 0.03*exp(-0.19*(x_10 - 0.17)**2))**2)\n",
      "Formula2: -0.99*(0.55*sin(0.5*x_6) + 0.24)*log(sin(1.01*x_6 + 0.01) + 1.42) + 1.0*(-cos(0.99*(0.55*sin(0.5*x_6) + 0.24)*log(sin(1.01*x_6 + 0.01) + 1.42) - 3.65*log(log(0.24*sin(0.91*exp(asinh(asinh(0.54*x_13 + 0.83)/cos(cos(0.13*exp(-0.54*x_13)))))) + 1) + 1) - 1.75*sin(0.33*x_12 + 5.14) + 0.99*sin(Abs(log(asinh(cos(log(Abs(1.01*x_10 - 0.41) + 1))) + 1)**3 + 0.14) - 0.11) - 1.04*sin(sin(0.98*x_8 - 1.27))**20 + 0.98*tan(1.76*atan(sin((-0.09*x_16 - sin(0.24*x_16 + 0.01)**3 - 0.59)**3)) + 3.02) - 0.98*tan(0.09*x_9 + 0.23*sin(-1.33*x_9 + 1.33*sin(1.0*x_9 - 0.34) + 0.93) - 0.03) - 1.04*tan(sinh(tanh(asinh(0.98*x_8 - 0.03) + 0.09)**7)) + 1.0*tan(asinh(atan(0.43*x_4 + 0.22*sin(0.91*x_4)**4 + 0.12)**2 - 0.06)) - 0.07*sinh(1.01*x_14 + 0.02) + 0.06*sinh(1.33*x_2 - 0.35) + 0.07*cosh(1.01*x_14 + 0.02) - 0.06*cosh(1.33*x_2 - 0.35) + 1.97*tanh((0.35*(0.52*x_11 + 1)**2/sqrt(0.27*(0.52*x_11 + 1)**4 + 1) - 0.4)*tanh(sinh(0.37*x_11 + 0.72) + 0.68) + 0.12) + 0.98*tanh(sinh(sinh(1.32*x_14 + 0.03))) - 0.79*tanh(sinh(sinh(1.72*x_2 - 0.46))) + 0.07*asinh(1.03*(x_14 + 0.02)**2)**3 - 0.06*asinh(1.76*(x_2 - 0.27)**2)**3 - 0.77*asinh(0.21*exp(0.84*x_15) - 0.32*sinh(cos(0.97*sinh(cos(0.95*x_15 - 0.63))))) + 0.94*atan(0.96*x_5 - 1.58) - 0.07*Max(0, 6.92*x_7 - 0.61) + 3.14 - 5.14*exp(-0.04*(-0.86*x_3 - 1)**2) + 1.88*exp(-0.07*(-x_1 - 0.45)**2)) - 0.96)/(-0.03*(0.55*sin(0.5*x_6) + 0.24)*log(sin(1.01*x_6 + 0.01) + 1.42) + 0.09*log(log(0.24*sin(0.91*exp(asinh(asinh(0.54*x_13 + 0.83)/cos(cos(0.13*exp(-0.54*x_13)))))) + 1) + 1) + 0.05*sin(0.33*x_12 + 5.14) - 0.03*sin(Abs(log(asinh(cos(log(Abs(1.01*x_10 - 0.41) + 1))) + 1)**3 + 0.14) - 0.11) + 0.03*sin(sin(0.98*x_8 - 1.27))**20 - 0.03*tan(1.76*atan(sin((-0.09*x_16 - sin(0.24*x_16 + 0.01)**3 - 0.59)**3)) + 3.02) + 0.03*tan(0.09*x_9 + 0.23*sin(-1.33*x_9 + 1.33*sin(1.0*x_9 - 0.34) + 0.93) - 0.03) + 0.03*tan(sinh(tanh(asinh(0.98*x_8 - 0.03) + 0.09)**7)) - 0.03*tan(asinh(atan(0.43*x_4 + 0.22*sin(0.91*x_4)**4 + 0.12)**2 - 0.06)) - 0.05*tanh((0.35*(0.52*x_11 + 1)**2/sqrt(0.27*(0.52*x_11 + 1)**4 + 1) - 0.4)*tanh(sinh(0.37*x_11 + 0.72) + 0.68) + 0.12) - 0.03*tanh(sinh(sinh(1.32*x_14 + 0.03))) + 0.02*tanh(sinh(sinh(1.72*x_2 - 0.46))) + 0.02*asinh(0.21*exp(0.84*x_15) - 0.32*sinh(cos(0.97*sinh(cos(0.95*x_15 - 0.63))))) - 0.02*atan(0.96*x_5 - 1.58) + 0.18 + 0.13*exp(-0.04*(-0.86*x_3 - 1)**2) - 0.05*exp(-0.07*(-x_1 - 0.45)**2)) + 29.56*log(log(0.24*sin(0.91*exp(asinh(asinh(-0.23*x_1 + 0.38*x_2 + 0.37*(-1.02*x_5 + sqrt(exp(atan(2.92*x_5 - 0.01))) - 1.45)*Abs(cos(1.02*x_5 + cos(0.42*x_5))) - 0.37*exp(0.41*x_11)*sin(0.27*cos(1.33*x_11 + 0.32) + 0.02) + 0.37*log(log(0.24*sin(0.91*exp(-asinh(asinh(1.0*x_9 + 1.21)/cos(cos(0.98*exp(1.0*x_9)))))) + 1) + 1) + 4.04*sin(Abs(log(asinh(cos(log(Abs(0.71*x_7 - 0.18) + 1))) + 1)**3 + 0.14) - 0.11) + 0.35*sin(0.71*x_1 + sin(0.71*x_1 - 6.07) - 5.59) - 0.4*sin(1.01*x_2 + sin(1.01*x_2 - 0.28) + 0.19) + 0.37*tan((asinh(tanh(sin(0.94*tan(sin(1.01*x_8 - 0.14))))) + 0.17)*cos(asinh(1.01*x_8 - 0.e-2))) + 0.38*tan(tanh(asinh(0.97*x_3 + 0.02) + 0.64)**18 - 0.04)*tanh(cosh(cosh(sin(0.97*x_3 + 0.02)))) - 0.03*sinh(tan(tanh(tanh(1.0*x_15 + 0.01)*Abs(tan(cos(1.0*x_15 + 0.26)))) + 0.14)) - 0.31*tanh(0.82*x_6 - 1.16) - 0.38*tanh((0.66*x_12**2/sqrt(0.97*x_12**4 + 1) - 0.4)*tanh(sinh(0.99*x_12) + 0.68) + 0.12) + 0.04*Abs(7.68*x_14 + 8.67) + 0.38*asinh(0.32*exp(1.0*x_13) - 0.32*sinh(cos(0.97*sinh(cos(1.13*x_13 - 0.19))))) - 0.38*atan(0.62*Abs(0.99*x_4 + sinh(sin(sin(atan(0.78*sinh(0.99*x_4 - 2.14))**2))) - 0.02))**3 + 0.31*atanh(0.16*x_16 + 0.73) + 0.01 - 0.11*exp(-0.19*(x_10 - 0.17)**2))/cos(cos(0.29*exp(0.23*x_1 - 0.38*x_2 - 0.37*(-1.02*x_5 + sqrt(exp(atan(2.92*x_5 - 0.01))) - 1.45)*Abs(cos(1.02*x_5 + cos(0.42*x_5))) + 0.37*exp(0.41*x_11)*sin(0.27*cos(1.33*x_11 + 0.32) + 0.02) - 4.04*sin(Abs(log(asinh(cos(log(Abs(0.71*x_7 - 0.18) + 1))) + 1)**3 + 0.14) - 0.11) - 0.35*sin(0.71*x_1 + sin(0.71*x_1 - 6.07) - 5.59) + 0.4*sin(1.01*x_2 + sin(1.01*x_2 - 0.28) + 0.19) - 0.37*tan((asinh(tanh(sin(0.94*tan(sin(1.01*x_8 - 0.14))))) + 0.17)*cos(asinh(1.01*x_8 - 0.e-2))) - 0.38*tan(tanh(asinh(0.97*x_3 + 0.02) + 0.64)**18 - 0.04)*tanh(cosh(cosh(sin(0.97*x_3 + 0.02)))) + 0.03*sinh(tan(tanh(tanh(1.0*x_15 + 0.01)*Abs(tan(cos(1.0*x_15 + 0.26)))) + 0.14)) + 0.31*tanh(0.82*x_6 - 1.16) + 0.38*tanh((0.66*x_12**2/sqrt(0.97*x_12**4 + 1) - 0.4)*tanh(sinh(0.99*x_12) + 0.68) + 0.12) - 0.04*Abs(7.68*x_14 + 8.67) - 0.38*asinh(0.32*exp(1.0*x_13) - 0.32*sinh(cos(0.97*sinh(cos(1.13*x_13 - 0.19))))) + 0.38*atan(0.62*Abs(0.99*x_4 + sinh(sin(sin(atan(0.78*sinh(0.99*x_4 - 2.14))**2))) - 0.02))**3 - 0.31*atanh(0.16*x_16 + 0.73) + 0.11*exp(-0.19*(x_10 - 0.17)**2))/(log(0.24*sin(0.91*exp(-asinh(asinh(1.0*x_9 + 1.21)/cos(cos(0.98*exp(1.0*x_9)))))) + 1) + 1)**0.37))))) + 1) + 1) + 3.67*log(log(0.24*sin(0.91*exp(asinh(asinh(0.54*x_13 + 0.83)/cos(cos(0.13*exp(-0.54*x_13)))))) + 1) + 1) + 1.76*sin(0.33*x_12 + 5.14) - 0.99*sin(Abs(log(asinh(cos(log(Abs(1.01*x_10 - 0.41) + 1))) + 1)**3 + 0.14) - 0.11) + 1.05*sin(sin(0.98*x_8 - 1.27))**20 - 0.98*tan(1.76*atan(sin((-0.09*x_16 - sin(0.24*x_16 + 0.01)**3 - 0.59)**3)) + 3.02) + 0.99*tan(0.09*x_9 + 0.23*sin(-1.33*x_9 + 1.33*sin(1.0*x_9 - 0.34) + 0.93) - 0.03) + 1.05*tan(sinh(tanh(asinh(0.98*x_8 - 0.03) + 0.09)**7)) - 1.01*tan(asinh(atan(0.43*x_4 + 0.22*sin(0.91*x_4)**4 + 0.12)**2 - 0.06)) + 0.07*sinh(1.01*x_14 + 0.02) - 0.06*sinh(1.33*x_2 - 0.35) - 0.07*cosh(1.01*x_14 + 0.02) + 0.06*cosh(1.33*x_2 - 0.35) - 1.98*tanh((0.35*(0.52*x_11 + 1)**2/sqrt(0.27*(0.52*x_11 + 1)**4 + 1) - 0.4)*tanh(sinh(0.37*x_11 + 0.72) + 0.68) + 0.12) - 0.99*tanh(sinh(sinh(1.32*x_14 + 0.03))) + 0.79*tanh(sinh(sinh(1.72*x_2 - 0.46))) - 0.07*asinh(1.03*(x_14 + 0.02)**2)**3 + 0.06*asinh(1.76*(x_2 - 0.27)**2)**3 + 0.77*asinh(0.21*exp(0.84*x_15) - 0.32*sinh(cos(0.97*sinh(cos(0.95*x_15 - 0.63))))) - 0.94*atan(0.96*x_5 - 1.58) - 1.21*atan(0.99*(0.55*sin(0.5*x_6) + 0.24)*log(sin(1.01*x_6 + 0.01) + 1.42) - 3.65*log(log(0.24*sin(0.91*exp(asinh(asinh(0.54*x_13 + 0.83)/cos(cos(0.13*exp(-0.54*x_13)))))) + 1) + 1) - 1.75*sin(0.33*x_12 + 5.14) + 0.99*sin(Abs(log(asinh(cos(log(Abs(1.01*x_10 - 0.41) + 1))) + 1)**3 + 0.14) - 0.11) - 1.04*sin(sin(0.98*x_8 - 1.27))**20 + 0.98*tan(1.76*atan(sin((-0.09*x_16 - sin(0.24*x_16 + 0.01)**3 - 0.59)**3)) + 3.02) - 0.98*tan(0.09*x_9 + 0.23*sin(-1.33*x_9 + 1.33*sin(1.0*x_9 - 0.34) + 0.93) - 0.03) - 1.04*tan(sinh(tanh(asinh(0.98*x_8 - 0.03) + 0.09)**7)) + 1.0*tan(asinh(atan(0.43*x_4 + 0.22*sin(0.91*x_4)**4 + 0.12)**2 - 0.06)) - 0.07*sinh(1.01*x_14 + 0.02) + 0.06*sinh(1.33*x_2 - 0.35) + 0.07*cosh(1.01*x_14 + 0.02) - 0.06*cosh(1.33*x_2 - 0.35) + 1.97*tanh((0.35*(0.52*x_11 + 1)**2/sqrt(0.27*(0.52*x_11 + 1)**4 + 1) - 0.4)*tanh(sinh(0.37*x_11 + 0.72) + 0.68) + 0.12) + 0.98*tanh(sinh(sinh(1.32*x_14 + 0.03))) - 0.79*tanh(sinh(sinh(1.72*x_2 - 0.46))) + 0.07*asinh(1.03*(x_14 + 0.02)**2)**3 - 0.06*asinh(1.76*(x_2 - 0.27)**2)**3 - 0.77*asinh(0.21*exp(0.84*x_15) - 0.32*sinh(cos(0.97*sinh(cos(0.95*x_15 - 0.63))))) + 0.94*atan(0.96*x_5 - 1.58) - 0.07*Max(0, 6.92*x_7 - 0.61) + 3.14 - 5.14*exp(-0.04*(-0.86*x_3 - 1)**2) + 1.88*exp(-0.07*(-x_1 - 0.45)**2)) + 0.07*Max(0, 6.92*x_7 - 0.61) + 2.34 + 5.16*exp(-0.04*(-0.86*x_3 - 1)**2) - 1.89*exp(-0.07*(-x_1 - 0.45)**2)\n",
      "Formula3: -2.3*exp(1.0*(0.55*sin(0.5*x_6) + 0.24)*log(sin(1.01*x_6 + 0.01) + 1.42) - 1.78*sin(0.33*x_12 + 5.14) + 1.0*sin(Abs(log(asinh(cos(log(Abs(1.01*x_10 - 0.41) + 1))) + 1)**3 + 0.14) - 0.11) - 1.06*sin(sin(0.98*x_8 - 1.27))**20 + 0.99*tan(1.76*atan(sin((-0.09*x_16 - sin(0.24*x_16 + 0.01)**3 - 0.59)**3)) + 3.02) - 1.0*tan(0.09*x_9 + 0.23*sin(-1.33*x_9 + 1.33*sin(1.0*x_9 - 0.34) + 0.93) - 0.03) - 1.06*tan(sinh(tanh(asinh(0.98*x_8 - 0.03) + 0.09)**7)) + 1.02*tan(asinh(atan(0.43*x_4 + 0.22*sin(0.91*x_4)**4 + 0.12)**2 - 0.06)) - 0.07*sinh(1.01*x_14 + 0.02) + 0.06*sinh(1.33*x_2 - 0.35) + 0.07*cosh(1.01*x_14 + 0.02) - 0.06*cosh(1.33*x_2 - 0.35) + 2.0*tanh((0.35*(0.52*x_11 + 1)**2/sqrt(0.27*(0.52*x_11 + 1)**4 + 1) - 0.4)*tanh(sinh(0.37*x_11 + 0.72) + 0.68) + 0.12) + 1.0*tanh(sinh(sinh(1.32*x_14 + 0.03))) - 0.8*tanh(sinh(sinh(1.72*x_2 - 0.46))) + 0.07*asinh(1.03*(x_14 + 0.02)**2)**3 - 0.06*asinh(1.76*(x_2 - 0.27)**2)**3 - 0.78*asinh(0.21*exp(0.84*x_15) - 0.32*sinh(cos(0.97*sinh(cos(0.95*x_15 - 0.63))))) + 0.95*atan(0.96*x_5 - 1.58) - 0.07*Max(0, 6.92*x_7 - 0.61) - 5.22*exp(-0.04*(-0.86*x_3 - 1)**2) + 1.91*exp(-0.07*(-x_1 - 0.45)**2))/(log(0.24*sin(0.91*exp(asinh(asinh(0.54*x_13 + 0.83)/cos(cos(0.13*exp(-0.54*x_13)))))) + 1) + 1)**3.71 + 1.0*(sin(-0.6*x_1 + 0.97*x_2 + 0.95*(-1.02*x_5 + sqrt(exp(atan(2.92*x_5 - 0.01))) - 1.45)*Abs(cos(1.02*x_5 + cos(0.42*x_5))) - 0.95*exp(0.41*x_11)*sin(0.27*cos(1.33*x_11 + 0.32) + 0.02) + 0.96*log(log(0.24*sin(0.91*exp(-asinh(asinh(1.0*x_9 + 1.21)/cos(cos(0.98*exp(1.0*x_9)))))) + 1) + 1) + 10.44*sin(Abs(log(asinh(cos(log(Abs(0.71*x_7 - 0.18) + 1))) + 1)**3 + 0.14) - 0.11) + 0.91*sin(0.71*x_1 + sin(0.71*x_1 - 6.07) - 5.59) - 1.03*sin(1.01*x_2 + sin(1.01*x_2 - 0.28) + 0.19) + 0.96*tan((asinh(tanh(sin(0.94*tan(sin(1.01*x_8 - 0.14))))) + 0.17)*cos(asinh(1.01*x_8 - 0.e-2))) + 0.98*tan(tanh(asinh(0.97*x_3 + 0.02) + 0.64)**18 - 0.04)*tanh(cosh(cosh(sin(0.97*x_3 + 0.02)))) - 0.07*sinh(tan(tanh(tanh(1.0*x_15 + 0.01)*Abs(tan(cos(1.0*x_15 + 0.26)))) + 0.14)) - 0.8*tanh(0.82*x_6 - 1.16) - 0.97*tanh((0.66*x_12**2/sqrt(0.97*x_12**4 + 1) - 0.4)*tanh(sinh(0.99*x_12) + 0.68) + 0.12) + 0.11*Abs(7.68*x_14 + 8.67) + 0.97*asinh(0.32*exp(1.0*x_13) - 0.32*sinh(cos(0.97*sinh(cos(1.13*x_13 - 0.19))))) - 0.98*atan(0.62*Abs(0.99*x_4 + sinh(sin(sin(atan(0.78*sinh(0.99*x_4 - 2.14))**2))) - 0.02))**3 + 0.81*atanh(0.16*x_16 + 0.73) - 3.93 - 0.28*exp(-0.19*(x_10 - 0.17)**2)) - 1.23)*(-0.62*x_1 + 1.0*x_2 + 0.98*(-1.02*x_5 + sqrt(exp(atan(2.92*x_5 - 0.01))) - 1.45)*Abs(cos(1.02*x_5 + cos(0.42*x_5))) - 0.98*exp(0.41*x_11)*sin(0.27*cos(1.33*x_11 + 0.32) + 0.02) + 0.99*log(log(0.24*sin(0.91*exp(-asinh(asinh(1.0*x_9 + 1.21)/cos(cos(0.98*exp(1.0*x_9)))))) + 1) + 1) + 10.8*sin(Abs(log(asinh(cos(log(Abs(0.71*x_7 - 0.18) + 1))) + 1)**3 + 0.14) - 0.11) + 0.94*sin(0.71*x_1 + sin(0.71*x_1 - 6.07) - 5.59) - 1.07*sin(1.01*x_2 + sin(1.01*x_2 - 0.28) + 0.19) + 1.0*tan((asinh(tanh(sin(0.94*tan(sin(1.01*x_8 - 0.14))))) + 0.17)*cos(asinh(1.01*x_8 - 0.e-2))) + 1.02*tan(tanh(asinh(0.97*x_3 + 0.02) + 0.64)**18 - 0.04)*tanh(cosh(cosh(sin(0.97*x_3 + 0.02)))) - 0.08*sinh(tan(tanh(tanh(1.0*x_15 + 0.01)*Abs(tan(cos(1.0*x_15 + 0.26)))) + 0.14)) - 0.82*tanh(0.82*x_6 - 1.16) - 1.0*tanh((0.66*x_12**2/sqrt(0.97*x_12**4 + 1) - 0.4)*tanh(sinh(0.99*x_12) + 0.68) + 0.12) + 0.12*Abs(7.68*x_14 + 8.67) + 1.01*asinh(0.32*exp(1.0*x_13) - 0.32*sinh(cos(0.97*sinh(cos(1.13*x_13 - 0.19))))) - 1.01*atan(0.62*Abs(0.99*x_4 + sinh(sin(sin(atan(0.78*sinh(0.99*x_4 - 2.14))**2))) - 0.02))**3 + 0.84*atanh(0.16*x_16 + 0.73) - 10.08 - 0.29*exp(-0.19*(x_10 - 0.17)**2)) - 8.6*sin(0.76*(0.55*sin(0.5*x_6) + 0.24)*log(sin(1.01*x_6 + 0.01) + 1.42) - 2.83*log(log(0.24*sin(0.91*exp(asinh(asinh(0.54*x_13 + 0.83)/cos(cos(0.13*exp(-0.54*x_13)))))) + 1) + 1) - 1.36*sin(0.33*x_12 + 5.14) + 0.76*sin(Abs(log(asinh(cos(log(Abs(1.01*x_10 - 0.41) + 1))) + 1)**3 + 0.14) - 0.11) - 0.81*sin(sin(0.98*x_8 - 1.27))**20 + 0.76*tan(1.76*atan(sin((-0.09*x_16 - sin(0.24*x_16 + 0.01)**3 - 0.59)**3)) + 3.02) - 0.76*tan(0.09*x_9 + 0.23*sin(-1.33*x_9 + 1.33*sin(1.0*x_9 - 0.34) + 0.93) - 0.03) - 0.81*tan(sinh(tanh(asinh(0.98*x_8 - 0.03) + 0.09)**7)) + 0.78*tan(asinh(atan(0.43*x_4 + 0.22*sin(0.91*x_4)**4 + 0.12)**2 - 0.06)) - 0.05*sinh(1.01*x_14 + 0.02) + 0.04*sinh(1.33*x_2 - 0.35) + 0.05*cosh(1.01*x_14 + 0.02) - 0.04*cosh(1.33*x_2 - 0.35) + 1.52*tanh((0.35*(0.52*x_11 + 1)**2/sqrt(0.27*(0.52*x_11 + 1)**4 + 1) - 0.4)*tanh(sinh(0.37*x_11 + 0.72) + 0.68) + 0.12) + 0.76*tanh(sinh(sinh(1.32*x_14 + 0.03))) - 0.61*tanh(sinh(sinh(1.72*x_2 - 0.46))) + 0.05*asinh(1.03*(x_14 + 0.02)**2)**3 - 0.04*asinh(1.76*(x_2 - 0.27)**2)**3 - 0.6*asinh(0.21*exp(0.84*x_15) - 0.32*sinh(cos(0.97*sinh(cos(0.95*x_15 - 0.63))))) + 0.73*atan(0.96*x_5 - 1.58) - 0.05*Max(0, 6.92*x_7 - 0.61) + 1.42 - 3.98*exp(-0.04*(-0.86*x_3 - 1)**2) + 1.45*exp(-0.07*(-x_1 - 0.45)**2)) - 0.09*sin(2.0*(0.55*sin(0.5*x_6) + 0.24)*log(sin(1.01*x_6 + 0.01) + 1.42) - 7.42*log(log(0.24*sin(0.91*exp(asinh(asinh(0.54*x_13 + 0.83)/cos(cos(0.13*exp(-0.54*x_13)))))) + 1) + 1) - 3.56*sin(0.33*x_12 + 5.14) + 2.0*sin(Abs(log(asinh(cos(log(Abs(1.01*x_10 - 0.41) + 1))) + 1)**3 + 0.14) - 0.11) - 2.12*sin(sin(0.98*x_8 - 1.27))**20 + 1.98*tan(1.76*atan(sin((-0.09*x_16 - sin(0.24*x_16 + 0.01)**3 - 0.59)**3)) + 3.02) - 2.0*tan(0.09*x_9 + 0.23*sin(-1.33*x_9 + 1.33*sin(1.0*x_9 - 0.34) + 0.93) - 0.03) - 2.12*tan(sinh(tanh(asinh(0.98*x_8 - 0.03) + 0.09)**7)) + 2.04*tan(asinh(atan(0.43*x_4 + 0.22*sin(0.91*x_4)**4 + 0.12)**2 - 0.06)) - 0.14*sinh(1.01*x_14 + 0.02) + 0.11*sinh(1.33*x_2 - 0.35) + 0.14*cosh(1.01*x_14 + 0.02) - 0.11*cosh(1.33*x_2 - 0.35) + 4.0*tanh((0.35*(0.52*x_11 + 1)**2/sqrt(0.27*(0.52*x_11 + 1)**4 + 1) - 0.4)*tanh(sinh(0.37*x_11 + 0.72) + 0.68) + 0.12) + 2.0*tanh(sinh(sinh(1.32*x_14 + 0.03))) - 1.6*tanh(sinh(sinh(1.72*x_2 - 0.46))) + 0.14*asinh(1.03*(x_14 + 0.02)**2)**3 - 0.11*asinh(1.76*(x_2 - 0.27)**2)**3 - 1.56*asinh(0.21*exp(0.84*x_15) - 0.32*sinh(cos(0.97*sinh(cos(0.95*x_15 - 0.63))))) + 1.91*atan(0.96*x_5 - 1.58) - 0.14*Max(0, 6.92*x_7 - 0.61) + 6.38 - 10.44*exp(-0.04*(-0.86*x_3 - 1)**2) + 3.81*exp(-0.07*(-x_1 - 0.45)**2)) - 7.2\n",
      "Formula4: -7.07*sin(-0.47*x_1 + 0.76*x_2 + 0.74*(-1.02*x_5 + sqrt(exp(atan(2.92*x_5 - 0.01))) - 1.45)*Abs(cos(1.02*x_5 + cos(0.42*x_5))) - 0.74*exp(0.41*x_11)*sin(0.27*cos(1.33*x_11 + 0.32) + 0.02) + 0.75*log(log(0.24*sin(0.91*exp(-asinh(asinh(1.0*x_9 + 1.21)/cos(cos(0.98*exp(1.0*x_9)))))) + 1) + 1) + 8.18*sin(Abs(log(asinh(cos(log(Abs(0.71*x_7 - 0.18) + 1))) + 1)**3 + 0.14) - 0.11) + 0.71*sin(0.71*x_1 + sin(0.71*x_1 - 6.07) - 5.59) - 0.81*sin(1.01*x_2 + sin(1.01*x_2 - 0.28) + 0.19) + 0.76*tan((asinh(tanh(sin(0.94*tan(sin(1.01*x_8 - 0.14))))) + 0.17)*cos(asinh(1.01*x_8 - 0.e-2))) + 0.77*tan(tanh(asinh(0.97*x_3 + 0.02) + 0.64)**18 - 0.04)*tanh(cosh(cosh(sin(0.97*x_3 + 0.02)))) - 0.06*sinh(tan(tanh(tanh(1.0*x_15 + 0.01)*Abs(tan(cos(1.0*x_15 + 0.26)))) + 0.14)) - 0.62*tanh(0.82*x_6 - 1.16) - 0.76*tanh((0.66*x_12**2/sqrt(0.97*x_12**4 + 1) - 0.4)*tanh(sinh(0.99*x_12) + 0.68) + 0.12) + 0.09*Abs(7.68*x_14 + 8.67) + 0.76*asinh(0.32*exp(1.0*x_13) - 0.32*sinh(cos(0.97*sinh(cos(1.13*x_13 - 0.19))))) - 0.77*atan(0.62*Abs(0.99*x_4 + sinh(sin(sin(atan(0.78*sinh(0.99*x_4 - 2.14))**2))) - 0.02))**3 + 0.63*atanh(0.16*x_16 + 0.73) - 0.6 - 0.22*exp(-0.19*(x_10 - 0.17)**2)) + 40.44*asinh(0.46*exp(0.36*(0.55*sin(0.5*x_6) + 0.24)*log(sin(1.01*x_6 + 0.01) + 1.42) - 0.65*sin(0.33*x_12 + 5.14) + 0.36*sin(Abs(log(asinh(cos(log(Abs(1.01*x_10 - 0.41) + 1))) + 1)**3 + 0.14) - 0.11) - 0.38*sin(sin(0.98*x_8 - 1.27))**20 + 0.36*tan(1.76*atan(sin((-0.09*x_16 - sin(0.24*x_16 + 0.01)**3 - 0.59)**3)) + 3.02) - 0.36*tan(0.09*x_9 + 0.23*sin(-1.33*x_9 + 1.33*sin(1.0*x_9 - 0.34) + 0.93) - 0.03) - 0.38*tan(sinh(tanh(asinh(0.98*x_8 - 0.03) + 0.09)**7)) + 0.37*tan(asinh(atan(0.43*x_4 + 0.22*sin(0.91*x_4)**4 + 0.12)**2 - 0.06)) - 0.03*sinh(1.01*x_14 + 0.02) + 0.02*sinh(1.33*x_2 - 0.35) + 0.03*cosh(1.01*x_14 + 0.02) - 0.02*cosh(1.33*x_2 - 0.35) + 0.73*tanh((0.35*(0.52*x_11 + 1)**2/sqrt(0.27*(0.52*x_11 + 1)**4 + 1) - 0.4)*tanh(sinh(0.37*x_11 + 0.72) + 0.68) + 0.12) + 0.36*tanh(sinh(sinh(1.32*x_14 + 0.03))) - 0.29*tanh(sinh(sinh(1.72*x_2 - 0.46))) + 0.03*asinh(1.03*(x_14 + 0.02)**2)**3 - 0.02*asinh(1.76*(x_2 - 0.27)**2)**3 - 0.28*asinh(0.21*exp(0.84*x_15) - 0.32*sinh(cos(0.97*sinh(cos(0.95*x_15 - 0.63))))) + 0.35*atan(0.96*x_5 - 1.58) - 0.02*Max(0, 6.92*x_7 - 0.61) - 1.89*exp(-0.04*(-0.86*x_3 - 1)**2) + 0.69*exp(-0.07*(-x_1 - 0.45)**2))/(log(0.24*sin(0.91*exp(asinh(asinh(0.54*x_13 + 0.83)/cos(cos(0.13*exp(-0.54*x_13)))))) + 1) + 1)**1.35 - 0.32*sinh(cos(0.97*sinh(cos(0.41*(0.55*sin(0.5*x_6) + 0.24)*log(sin(1.01*x_6 + 0.01) + 1.42) - 1.52*log(log(0.24*sin(0.91*exp(asinh(asinh(0.54*x_13 + 0.83)/cos(cos(0.13*exp(-0.54*x_13)))))) + 1) + 1) - 0.73*sin(0.33*x_12 + 5.14) + 0.41*sin(Abs(log(asinh(cos(log(Abs(1.01*x_10 - 0.41) + 1))) + 1)**3 + 0.14) - 0.11) - 0.43*sin(sin(0.98*x_8 - 1.27))**20 + 0.41*tan(1.76*atan(sin((-0.09*x_16 - sin(0.24*x_16 + 0.01)**3 - 0.59)**3)) + 3.02) - 0.41*tan(0.09*x_9 + 0.23*sin(-1.33*x_9 + 1.33*sin(1.0*x_9 - 0.34) + 0.93) - 0.03) - 0.43*tan(sinh(tanh(asinh(0.98*x_8 - 0.03) + 0.09)**7)) + 0.42*tan(asinh(atan(0.43*x_4 + 0.22*sin(0.91*x_4)**4 + 0.12)**2 - 0.06)) - 0.03*sinh(1.01*x_14 + 0.02) + 0.02*sinh(1.33*x_2 - 0.35) + 0.03*cosh(1.01*x_14 + 0.02) - 0.02*cosh(1.33*x_2 - 0.35) + 0.82*tanh((0.35*(0.52*x_11 + 1)**2/sqrt(0.27*(0.52*x_11 + 1)**4 + 1) - 0.4)*tanh(sinh(0.37*x_11 + 0.72) + 0.68) + 0.12) + 0.41*tanh(sinh(sinh(1.32*x_14 + 0.03))) - 0.33*tanh(sinh(sinh(1.72*x_2 - 0.46))) + 0.03*asinh(1.03*(x_14 + 0.02)**2)**3 - 0.02*asinh(1.76*(x_2 - 0.27)**2)**3 - 0.32*asinh(0.21*exp(0.84*x_15) - 0.32*sinh(cos(0.97*sinh(cos(0.95*x_15 - 0.63))))) + 0.39*atan(0.96*x_5 - 1.58) - 0.03*Max(0, 6.92*x_7 - 0.61) + 0.24 - 2.14*exp(-0.04*(-0.86*x_3 - 1)**2) + 0.78*exp(-0.07*(-x_1 - 0.45)**2)))))) + 1.18\n",
      "Formula5: 11.0 - 21.91*exp(-0.85*(-0.16*(0.55*sin(0.5*x_6) + 0.24)*log(sin(1.01*x_6 + 0.01) + 1.42) + 0.6*log(log(0.24*sin(0.91*exp(asinh(asinh(0.54*x_13 + 0.83)/cos(cos(0.13*exp(-0.54*x_13)))))) + 1) + 1) + 0.29*sin(0.33*x_12 + 5.14) - 0.16*sin(Abs(log(asinh(cos(log(Abs(1.01*x_10 - 0.41) + 1))) + 1)**3 + 0.14) - 0.11) + 0.17*sin(sin(0.98*x_8 - 1.27))**20 - 0.16*tan(1.76*atan(sin((-0.09*x_16 - sin(0.24*x_16 + 0.01)**3 - 0.59)**3)) + 3.02) + 0.16*tan(0.09*x_9 + 0.23*sin(-1.33*x_9 + 1.33*sin(1.0*x_9 - 0.34) + 0.93) - 0.03) + 0.17*tan(sinh(tanh(asinh(0.98*x_8 - 0.03) + 0.09)**7)) - 0.16*tan(asinh(atan(0.43*x_4 + 0.22*sin(0.91*x_4)**4 + 0.12)**2 - 0.06)) + 0.01*sinh(1.01*x_14 + 0.02) - 0.01*sinh(1.33*x_2 - 0.35) - 0.01*cosh(1.01*x_14 + 0.02) + 0.01*cosh(1.33*x_2 - 0.35) - 0.32*tanh((0.35*(0.52*x_11 + 1)**2/sqrt(0.27*(0.52*x_11 + 1)**4 + 1) - 0.4)*tanh(sinh(0.37*x_11 + 0.72) + 0.68) + 0.12) - 0.16*tanh(sinh(sinh(1.32*x_14 + 0.03))) + 0.13*tanh(sinh(sinh(1.72*x_2 - 0.46))) - 0.01*asinh(1.03*(x_14 + 0.02)**2)**3 + 0.01*asinh(1.76*(x_2 - 0.27)**2)**3 + 0.13*asinh(0.21*exp(0.84*x_15) - 0.32*sinh(cos(0.97*sinh(cos(0.95*x_15 - 0.63))))) - 0.15*atan(0.96*x_5 - 1.58) + 0.01*Max(0, 6.92*x_7 - 0.61) - 1 + 0.84*exp(-0.04*(-0.86*x_3 - 1)**2) - 0.31*exp(-0.07*(-x_1 - 0.45)**2))**2) + 15.62*exp(-16.29*(0.06*x_1 - 0.09*x_2 - 0.09*(-1.02*x_5 + sqrt(exp(atan(2.92*x_5 - 0.01))) - 1.45)*Abs(cos(1.02*x_5 + cos(0.42*x_5))) + 0.09*exp(0.41*x_11)*sin(0.27*cos(1.33*x_11 + 0.32) + 0.02) - 0.09*log(log(0.24*sin(0.91*exp(-asinh(asinh(1.0*x_9 + 1.21)/cos(cos(0.98*exp(1.0*x_9)))))) + 1) + 1) - sin(Abs(log(asinh(cos(log(Abs(0.71*x_7 - 0.18) + 1))) + 1)**3 + 0.14) - 0.11) - 0.09*sin(0.71*x_1 + sin(0.71*x_1 - 6.07) - 5.59) + 0.1*sin(1.01*x_2 + sin(1.01*x_2 - 0.28) + 0.19) - 0.09*tan((asinh(tanh(sin(0.94*tan(sin(1.01*x_8 - 0.14))))) + 0.17)*cos(asinh(1.01*x_8 - 0.e-2))) - 0.09*tan(tanh(asinh(0.97*x_3 + 0.02) + 0.64)**18 - 0.04)*tanh(cosh(cosh(sin(0.97*x_3 + 0.02)))) + 0.01*sinh(tan(tanh(tanh(1.0*x_15 + 0.01)*Abs(tan(cos(1.0*x_15 + 0.26)))) + 0.14)) + 0.08*tanh(0.82*x_6 - 1.16) + 0.09*tanh((0.66*x_12**2/sqrt(0.97*x_12**4 + 1) - 0.4)*tanh(sinh(0.99*x_12) + 0.68) + 0.12) - 0.01*Abs(7.68*x_14 + 8.67) - 0.09*asinh(0.32*exp(1.0*x_13) - 0.32*sinh(cos(0.97*sinh(cos(1.13*x_13 - 0.19))))) + 0.09*atan(0.62*Abs(0.99*x_4 + sinh(sin(sin(atan(0.78*sinh(0.99*x_4 - 2.14))**2))) - 0.02))**3 - 0.08*atanh(0.16*x_16 + 0.73) + 0.28 + 0.03*exp(-0.19*(x_10 - 0.17)**2))**2)\n",
      "Formula6: 0.99*(-0.46*x_1 + 0.74*x_2 + 0.72*(-1.02*x_5 + sqrt(exp(atan(2.92*x_5 - 0.01))) - 1.45)*Abs(cos(1.02*x_5 + cos(0.42*x_5))) - 0.72*exp(0.41*x_11)*sin(0.27*cos(1.33*x_11 + 0.32) + 0.02) + 0.73*log(log(0.24*sin(0.91*exp(-asinh(asinh(1.0*x_9 + 1.21)/cos(cos(0.98*exp(1.0*x_9)))))) + 1) + 1) + 7.96*sin(Abs(log(asinh(cos(log(Abs(0.71*x_7 - 0.18) + 1))) + 1)**3 + 0.14) - 0.11) + 0.69*sin(0.71*x_1 + sin(0.71*x_1 - 6.07) - 5.59) - 0.79*sin(1.01*x_2 + sin(1.01*x_2 - 0.28) + 0.19) + 0.73*tan((asinh(tanh(sin(0.94*tan(sin(1.01*x_8 - 0.14))))) + 0.17)*cos(asinh(1.01*x_8 - 0.e-2))) + 0.75*tan(tanh(asinh(0.97*x_3 + 0.02) + 0.64)**18 - 0.04)*tanh(cosh(cosh(sin(0.97*x_3 + 0.02)))) - 0.06*sinh(tan(tanh(tanh(1.0*x_15 + 0.01)*Abs(tan(cos(1.0*x_15 + 0.26)))) + 0.14)) - 0.61*tanh(0.82*x_6 - 1.16) - 0.74*tanh((0.66*x_12**2/sqrt(0.97*x_12**4 + 1) - 0.4)*tanh(sinh(0.99*x_12) + 0.68) + 0.12) + 0.08*Abs(7.68*x_14 + 8.67) + 0.74*asinh(0.32*exp(1.0*x_13) - 0.32*sinh(cos(0.97*sinh(cos(1.13*x_13 - 0.19))))) - 0.74*atan(0.62*Abs(0.99*x_4 + sinh(sin(sin(atan(0.78*sinh(0.99*x_4 - 2.14))**2))) - 0.02))**3 + 0.62*atanh(0.16*x_16 + 0.73) - 3.31 - 0.22*exp(-0.19*(x_10 - 0.17)**2))*(-0.63*x_1 + 1.01*x_2 + 0.99*(-1.02*x_5 + sqrt(exp(atan(2.92*x_5 - 0.01))) - 1.45)*Abs(cos(1.02*x_5 + cos(0.42*x_5))) - 0.99*exp(0.41*x_11)*sin(0.27*cos(1.33*x_11 + 0.32) + 0.02) + 1.0*log(log(0.24*sin(0.91*exp(-asinh(asinh(1.0*x_9 + 1.21)/cos(cos(0.98*exp(1.0*x_9)))))) + 1) + 1) + 10.85*sin(Abs(log(asinh(cos(log(Abs(0.71*x_7 - 0.18) + 1))) + 1)**3 + 0.14) - 0.11) + 0.95*sin(0.71*x_1 + sin(0.71*x_1 - 6.07) - 5.59) - 1.07*sin(1.01*x_2 + sin(1.01*x_2 - 0.28) + 0.19) + sin(-0.57*x_1 + 0.93*x_2 + 0.91*(-1.02*x_5 + sqrt(exp(atan(2.92*x_5 - 0.01))) - 1.45)*Abs(cos(1.02*x_5 + cos(0.42*x_5))) - 0.91*exp(0.41*x_11)*sin(0.27*cos(1.33*x_11 + 0.32) + 0.02) + 0.92*log(log(0.24*sin(0.91*exp(-asinh(asinh(1.0*x_9 + 1.21)/cos(cos(0.98*exp(1.0*x_9)))))) + 1) + 1) + 9.95*sin(Abs(log(asinh(cos(log(Abs(0.71*x_7 - 0.18) + 1))) + 1)**3 + 0.14) - 0.11) + 0.87*sin(0.71*x_1 + sin(0.71*x_1 - 6.07) - 5.59) - 0.99*sin(1.01*x_2 + sin(1.01*x_2 - 0.28) + 0.19) + 0.92*tan((asinh(tanh(sin(0.94*tan(sin(1.01*x_8 - 0.14))))) + 0.17)*cos(asinh(1.01*x_8 - 0.e-2))) + 0.94*tan(tanh(asinh(0.97*x_3 + 0.02) + 0.64)**18 - 0.04)*tanh(cosh(cosh(sin(0.97*x_3 + 0.02)))) - 0.07*sinh(tan(tanh(tanh(1.0*x_15 + 0.01)*Abs(tan(cos(1.0*x_15 + 0.26)))) + 0.14)) - 0.76*tanh(0.82*x_6 - 1.16) - 0.92*tanh((0.66*x_12**2/sqrt(0.97*x_12**4 + 1) - 0.4)*tanh(sinh(0.99*x_12) + 0.68) + 0.12) + 0.11*Abs(7.68*x_14 + 8.67) + 0.93*asinh(0.32*exp(1.0*x_13) - 0.32*sinh(cos(0.97*sinh(cos(1.13*x_13 - 0.19))))) - 0.93*atan(0.62*Abs(0.99*x_4 + sinh(sin(sin(atan(0.78*sinh(0.99*x_4 - 2.14))**2))) - 0.02))**3 + 0.77*atanh(0.16*x_16 + 0.73) - 3.94 - 0.27*exp(-0.19*(x_10 - 0.17)**2)) + 1.0*tan((asinh(tanh(sin(0.94*tan(sin(1.01*x_8 - 0.14))))) + 0.17)*cos(asinh(1.01*x_8 - 0.e-2))) + 1.02*tan(tanh(asinh(0.97*x_3 + 0.02) + 0.64)**18 - 0.04)*tanh(cosh(cosh(sin(0.97*x_3 + 0.02)))) - 0.08*sinh(tan(tanh(tanh(1.0*x_15 + 0.01)*Abs(tan(cos(1.0*x_15 + 0.26)))) + 0.14)) - 0.83*tanh(0.82*x_6 - 1.16) - 1.01*tanh((0.66*x_12**2/sqrt(0.97*x_12**4 + 1) - 0.4)*tanh(sinh(0.99*x_12) + 0.68) + 0.12) + 0.12*Abs(7.68*x_14 + 8.67) + 1.01*asinh(0.32*exp(1.0*x_13) - 0.32*sinh(cos(0.97*sinh(cos(1.13*x_13 - 0.19))))) - 1.02*atan(0.62*Abs(0.99*x_4 + sinh(sin(sin(atan(0.78*sinh(0.99*x_4 - 2.14))**2))) - 0.02))**3 + 0.84*atanh(0.16*x_16 + 0.73) - 1.08 - 0.3*exp(-0.19*(x_10 - 0.17)**2)) + 1.01*(-1.05*(0.55*sin(0.5*x_6) + 0.24)*log(sin(1.01*x_6 + 0.01) + 1.42) + 3.88*log(log(0.24*sin(0.91*exp(asinh(asinh(0.54*x_13 + 0.83)/cos(cos(0.13*exp(-0.54*x_13)))))) + 1) + 1) + 1.86*sin(0.33*x_12 + 5.14) - 1.05*sin(Abs(log(asinh(cos(log(Abs(1.01*x_10 - 0.41) + 1))) + 1)**3 + 0.14) - 0.11) + 1.11*sin(sin(0.98*x_8 - 1.27))**20 - 1.04*tan(1.76*atan(sin((-0.09*x_16 - sin(0.24*x_16 + 0.01)**3 - 0.59)**3)) + 3.02) + 1.05*tan(0.09*x_9 + 0.23*sin(-1.33*x_9 + 1.33*sin(1.0*x_9 - 0.34) + 0.93) - 0.03) + 1.11*tan(sinh(tanh(asinh(0.98*x_8 - 0.03) + 0.09)**7)) - 1.07*tan(asinh(atan(0.43*x_4 + 0.22*sin(0.91*x_4)**4 + 0.12)**2 - 0.06)) + 0.07*sinh(1.01*x_14 + 0.02) - 0.06*sinh(1.33*x_2 - 0.35) - 0.07*cosh(1.01*x_14 + 0.02) + 0.06*cosh(1.33*x_2 - 0.35) - 2.09*tanh((0.35*(0.52*x_11 + 1)**2/sqrt(0.27*(0.52*x_11 + 1)**4 + 1) - 0.4)*tanh(sinh(0.37*x_11 + 0.72) + 0.68) + 0.12) - 1.04*tanh(sinh(sinh(1.32*x_14 + 0.03))) + 0.84*tanh(sinh(sinh(1.72*x_2 - 0.46))) - 0.07*asinh(1.03*(x_14 + 0.02)**2)**3 + 0.06*asinh(1.76*(x_2 - 0.27)**2)**3 + 0.82*asinh(0.21*exp(0.84*x_15) - 0.32*sinh(cos(0.97*sinh(cos(0.95*x_15 - 0.63))))) - 1.0*atan(0.96*x_5 - 1.58) + 0.07*Max(0, 6.92*x_7 - 0.61) - 3.36 + 5.46*exp(-0.04*(-0.86*x_3 - 1)**2) - 1.99*exp(-0.07*(-x_1 - 0.45)**2))*sin(atan(4.48*sqrt(exp(0.92*(0.55*sin(0.5*x_6) + 0.24)*log(sin(1.01*x_6 + 0.01) + 1.42) - 1.63*sin(0.33*x_12 + 5.14) + 0.92*sin(Abs(log(asinh(cos(log(Abs(1.01*x_10 - 0.41) + 1))) + 1)**3 + 0.14) - 0.11) - 0.97*sin(sin(0.98*x_8 - 1.27))**20 + 0.91*tan(1.76*atan(sin((-0.09*x_16 - sin(0.24*x_16 + 0.01)**3 - 0.59)**3)) + 3.02) - 0.92*tan(0.09*x_9 + 0.23*sin(-1.33*x_9 + 1.33*sin(1.0*x_9 - 0.34) + 0.93) - 0.03) - 0.97*tan(sinh(tanh(asinh(0.98*x_8 - 0.03) + 0.09)**7)) + 0.94*tan(asinh(atan(0.43*x_4 + 0.22*sin(0.91*x_4)**4 + 0.12)**2 - 0.06)) - 0.06*sinh(1.01*x_14 + 0.02) + 0.05*sinh(1.33*x_2 - 0.35) + 0.06*cosh(1.01*x_14 + 0.02) - 0.05*cosh(1.33*x_2 - 0.35) + 1.84*tanh((0.35*(0.52*x_11 + 1)**2/sqrt(0.27*(0.52*x_11 + 1)**4 + 1) - 0.4)*tanh(sinh(0.37*x_11 + 0.72) + 0.68) + 0.12) + 0.92*tanh(sinh(sinh(1.32*x_14 + 0.03))) - 0.73*tanh(sinh(sinh(1.72*x_2 - 0.46))) + 0.06*asinh(1.03*(x_14 + 0.02)**2)**3 - 0.05*asinh(1.76*(x_2 - 0.27)**2)**3 - 0.72*asinh(0.21*exp(0.84*x_15) - 0.32*sinh(cos(0.97*sinh(cos(0.95*x_15 - 0.63))))) + 0.88*atan(0.96*x_5 - 1.58) - 0.06*Max(0, 6.92*x_7 - 0.61) - 4.79*exp(-0.04*(-0.86*x_3 - 1)**2) + 1.75*exp(-0.07*(-x_1 - 0.45)**2))/(log(0.24*sin(0.91*exp(asinh(asinh(0.54*x_13 + 0.83)/cos(cos(0.13*exp(-0.54*x_13)))))) + 1) + 1)**3.41))**2 - 0.09) - 1.17\n",
      "Formula7: -0.96*x_1 + 1.55*x_2 + 1.52*(-1.02*x_5 + sqrt(exp(atan(2.92*x_5 - 0.01))) - 1.45)*Abs(cos(1.02*x_5 + cos(0.42*x_5))) + 1.01*(-1.0*(0.55*sin(0.5*x_6) + 0.24)*log(sin(1.01*x_6 + 0.01) + 1.42) + 3.71*log(log(0.24*sin(0.91*exp(asinh(asinh(0.54*x_13 + 0.83)/cos(cos(0.13*exp(-0.54*x_13)))))) + 1) + 1) + 1.78*sin(0.33*x_12 + 5.14) - 1.0*sin(Abs(log(asinh(cos(log(Abs(1.01*x_10 - 0.41) + 1))) + 1)**3 + 0.14) - 0.11) + 1.06*sin(sin(0.98*x_8 - 1.27))**20 - 0.99*tan(1.76*atan(sin((-0.09*x_16 - sin(0.24*x_16 + 0.01)**3 - 0.59)**3)) + 3.02) + 1.0*tan(0.09*x_9 + 0.23*sin(-1.33*x_9 + 1.33*sin(1.0*x_9 - 0.34) + 0.93) - 0.03) + 1.06*tan(sinh(tanh(asinh(0.98*x_8 - 0.03) + 0.09)**7)) - 1.02*tan(asinh(atan(0.43*x_4 + 0.22*sin(0.91*x_4)**4 + 0.12)**2 - 0.06)) + 0.07*sinh(1.01*x_14 + 0.02) - 0.06*sinh(1.33*x_2 - 0.35) - 0.07*cosh(1.01*x_14 + 0.02) + 0.06*cosh(1.33*x_2 - 0.35) - 2.0*tanh((0.35*(0.52*x_11 + 1)**2/sqrt(0.27*(0.52*x_11 + 1)**4 + 1) - 0.4)*tanh(sinh(0.37*x_11 + 0.72) + 0.68) + 0.12) - 1.0*tanh(sinh(sinh(1.32*x_14 + 0.03))) + 0.8*tanh(sinh(sinh(1.72*x_2 - 0.46))) - 0.07*asinh(1.03*(x_14 + 0.02)**2)**3 + 0.06*asinh(1.76*(x_2 - 0.27)**2)**3 + 0.78*asinh(0.21*exp(0.84*x_15) - 0.32*sinh(cos(0.97*sinh(cos(0.95*x_15 - 0.63))))) - 0.95*atan(0.96*x_5 - 1.58) + 0.07*Max(0, 6.92*x_7 - 0.61) - 3.2 + 5.22*exp(-0.04*(-0.86*x_3 - 1)**2) - 1.91*exp(-0.07*(-x_1 - 0.45)**2))*sin(0.92*(0.55*sin(0.5*x_6) + 0.24)*log(sin(1.01*x_6 + 0.01) + 1.42) - 3.39*log(log(0.24*sin(0.91*exp(asinh(asinh(0.54*x_13 + 0.83)/cos(cos(0.13*exp(-0.54*x_13)))))) + 1) + 1) - 1.63*sin(0.33*x_12 + 5.14) + 0.92*sin(Abs(log(asinh(cos(log(Abs(1.01*x_10 - 0.41) + 1))) + 1)**3 + 0.14) - 0.11) - 0.97*sin(sin(0.98*x_8 - 1.27))**20 + 0.91*tan(1.76*atan(sin((-0.09*x_16 - sin(0.24*x_16 + 0.01)**3 - 0.59)**3)) + 3.02) - 0.91*tan(0.09*x_9 + 0.23*sin(-1.33*x_9 + 1.33*sin(1.0*x_9 - 0.34) + 0.93) - 0.03) - 0.97*tan(sinh(tanh(asinh(0.98*x_8 - 0.03) + 0.09)**7)) + 0.93*tan(asinh(atan(0.43*x_4 + 0.22*sin(0.91*x_4)**4 + 0.12)**2 - 0.06)) - 0.06*sinh(1.01*x_14 + 0.02) + 0.05*sinh(1.33*x_2 - 0.35) + 0.06*cosh(1.01*x_14 + 0.02) - 0.05*cosh(1.33*x_2 - 0.35) + 1.83*tanh((0.35*(0.52*x_11 + 1)**2/sqrt(0.27*(0.52*x_11 + 1)**4 + 1) - 0.4)*tanh(sinh(0.37*x_11 + 0.72) + 0.68) + 0.12) + 0.91*tanh(sinh(sinh(1.32*x_14 + 0.03))) - 0.73*tanh(sinh(sinh(1.72*x_2 - 0.46))) + 0.06*asinh(1.03*(x_14 + 0.02)**2)**3 - 0.05*asinh(1.76*(x_2 - 0.27)**2)**3 - 0.71*asinh(0.21*exp(0.84*x_15) - 0.32*sinh(cos(0.97*sinh(cos(0.95*x_15 - 0.63))))) + 0.87*atan(0.96*x_5 - 1.58) - 0.06*Max(0, 6.92*x_7 - 0.61) + 2.93 - 4.77*exp(-0.04*(-0.86*x_3 - 1)**2) + 1.74*exp(-0.07*(-x_1 - 0.45)**2)) - 1.52*exp(0.41*x_11)*sin(0.27*cos(1.33*x_11 + 0.32) + 0.02) + 1.53*log(log(0.24*sin(0.91*exp(-asinh(asinh(1.0*x_9 + 1.21)/cos(cos(0.98*exp(1.0*x_9)))))) + 1) + 1) + 16.64*sin(Abs(log(asinh(cos(log(Abs(0.71*x_7 - 0.18) + 1))) + 1)**3 + 0.14) - 0.11) + 1.45*sin(0.71*x_1 + sin(0.71*x_1 - 6.07) - 5.59) - 1.65*sin(1.01*x_2 + sin(1.01*x_2 - 0.28) + 0.19) + 1.83*sin(sin(-0.62*x_1 + 1.0*x_2 + 0.98*(-1.02*x_5 + sqrt(exp(atan(2.92*x_5 - 0.01))) - 1.45)*Abs(cos(1.02*x_5 + cos(0.42*x_5))) - 0.98*exp(0.41*x_11)*sin(0.27*cos(1.33*x_11 + 0.32) + 0.02) + 0.99*log(log(0.24*sin(0.91*exp(-asinh(asinh(1.0*x_9 + 1.21)/cos(cos(0.98*exp(1.0*x_9)))))) + 1) + 1) + 10.74*sin(Abs(log(asinh(cos(log(Abs(0.71*x_7 - 0.18) + 1))) + 1)**3 + 0.14) - 0.11) + 0.94*sin(0.71*x_1 + sin(0.71*x_1 - 6.07) - 5.59) - 1.06*sin(1.01*x_2 + sin(1.01*x_2 - 0.28) + 0.19) + 0.99*tan((asinh(tanh(sin(0.94*tan(sin(1.01*x_8 - 0.14))))) + 0.17)*cos(asinh(1.01*x_8 - 0.e-2))) + 1.01*tan(tanh(asinh(0.97*x_3 + 0.02) + 0.64)**18 - 0.04)*tanh(cosh(cosh(sin(0.97*x_3 + 0.02)))) - 0.07*sinh(tan(tanh(tanh(1.0*x_15 + 0.01)*Abs(tan(cos(1.0*x_15 + 0.26)))) + 0.14)) - 0.82*tanh(0.82*x_6 - 1.16) - 1.0*tanh((0.66*x_12**2/sqrt(0.97*x_12**4 + 1) - 0.4)*tanh(sinh(0.99*x_12) + 0.68) + 0.12) + 0.11*Abs(7.68*x_14 + 8.67) + 1.0*asinh(0.32*exp(1.0*x_13) - 0.32*sinh(cos(0.97*sinh(cos(1.13*x_13 - 0.19))))) - 1.0*atan(0.62*Abs(0.99*x_4 + sinh(sin(sin(atan(0.78*sinh(0.99*x_4 - 2.14))**2))) - 0.02))**3 + 0.83*atanh(0.16*x_16 + 0.73) - 4.46 - 0.29*exp(-0.19*(x_10 - 0.17)**2))) + 3.98*cos(-0.66*x_1 + 1.06*x_2 + 1.04*(-1.02*x_5 + sqrt(exp(atan(2.92*x_5 - 0.01))) - 1.45)*Abs(cos(1.02*x_5 + cos(0.42*x_5))) - 1.04*exp(0.41*x_11)*sin(0.27*cos(1.33*x_11 + 0.32) + 0.02) + 1.05*log(log(0.24*sin(0.91*exp(-asinh(asinh(1.0*x_9 + 1.21)/cos(cos(0.98*exp(1.0*x_9)))))) + 1) + 1) + 11.39*sin(Abs(log(asinh(cos(log(Abs(0.71*x_7 - 0.18) + 1))) + 1)**3 + 0.14) - 0.11) + 0.99*sin(0.71*x_1 + sin(0.71*x_1 - 6.07) - 5.59) - 1.13*sin(1.01*x_2 + sin(1.01*x_2 - 0.28) + 0.19) + 1.05*tan((asinh(tanh(sin(0.94*tan(sin(1.01*x_8 - 0.14))))) + 0.17)*cos(asinh(1.01*x_8 - 0.e-2))) + 1.07*tan(tanh(asinh(0.97*x_3 + 0.02) + 0.64)**18 - 0.04)*tanh(cosh(cosh(sin(0.97*x_3 + 0.02)))) - 0.08*sinh(tan(tanh(tanh(1.0*x_15 + 0.01)*Abs(tan(cos(1.0*x_15 + 0.26)))) + 0.14)) - 0.87*tanh(0.82*x_6 - 1.16) - 1.06*tanh((0.66*x_12**2/sqrt(0.97*x_12**4 + 1) - 0.4)*tanh(sinh(0.99*x_12) + 0.68) + 0.12) + 0.12*Abs(7.68*x_14 + 8.67) + 1.06*asinh(0.32*exp(1.0*x_13) - 0.32*sinh(cos(0.97*sinh(cos(1.13*x_13 - 0.19))))) - 1.07*atan(0.62*Abs(0.99*x_4 + sinh(sin(sin(atan(0.78*sinh(0.99*x_4 - 2.14))**2))) - 0.02))**3 + 0.88*atanh(0.16*x_16 + 0.73) - 4.74 - 0.31*exp(-0.19*(x_10 - 0.17)**2)) + 1.01*tan(0.16*exp(1.0*(0.55*sin(0.5*x_6) + 0.24)*log(sin(1.01*x_6 + 0.01) + 1.42) - 1.78*sin(0.33*x_12 + 5.14) + 1.0*sin(Abs(log(asinh(cos(log(Abs(1.01*x_10 - 0.41) + 1))) + 1)**3 + 0.14) - 0.11) - 1.06*sin(sin(0.98*x_8 - 1.27))**20 + 0.99*tan(1.76*atan(sin((-0.09*x_16 - sin(0.24*x_16 + 0.01)**3 - 0.59)**3)) + 3.02) - 1.0*tan(0.09*x_9 + 0.23*sin(-1.33*x_9 + 1.33*sin(1.0*x_9 - 0.34) + 0.93) - 0.03) - 1.06*tan(sinh(tanh(asinh(0.98*x_8 - 0.03) + 0.09)**7)) + 1.02*tan(asinh(atan(0.43*x_4 + 0.22*sin(0.91*x_4)**4 + 0.12)**2 - 0.06)) - 0.07*sinh(1.01*x_14 + 0.02) + 0.06*sinh(1.33*x_2 - 0.35) + 0.07*cosh(1.01*x_14 + 0.02) - 0.06*cosh(1.33*x_2 - 0.35) + 2.0*tanh((0.35*(0.52*x_11 + 1)**2/sqrt(0.27*(0.52*x_11 + 1)**4 + 1) - 0.4)*tanh(sinh(0.37*x_11 + 0.72) + 0.68) + 0.12) + 1.0*tanh(sinh(sinh(1.32*x_14 + 0.03))) - 0.8*tanh(sinh(sinh(1.72*x_2 - 0.46))) + 0.07*asinh(1.03*(x_14 + 0.02)**2)**3 - 0.06*asinh(1.76*(x_2 - 0.27)**2)**3 - 0.78*asinh(0.21*exp(0.84*x_15) - 0.32*sinh(cos(0.97*sinh(cos(0.95*x_15 - 0.63))))) + 0.95*atan(0.96*x_5 - 1.58) - 0.07*Max(0, 6.92*x_7 - 0.61) - 5.22*exp(-0.04*(-0.86*x_3 - 1)**2) + 1.91*exp(-0.07*(-x_1 - 0.45)**2))/(log(0.24*sin(0.91*exp(asinh(asinh(0.54*x_13 + 0.83)/cos(cos(0.13*exp(-0.54*x_13)))))) + 1) + 1)**3.71) + 1.54*tan((asinh(tanh(sin(0.94*tan(sin(1.01*x_8 - 0.14))))) + 0.17)*cos(asinh(1.01*x_8 - 0.e-2))) + 1.57*tan(tanh(asinh(0.97*x_3 + 0.02) + 0.64)**18 - 0.04)*tanh(cosh(cosh(sin(0.97*x_3 + 0.02)))) - 0.12*sinh(tan(tanh(tanh(1.0*x_15 + 0.01)*Abs(tan(cos(1.0*x_15 + 0.26)))) + 0.14)) - 1.27*tanh(0.82*x_6 - 1.16) - 1.54*tanh((0.66*x_12**2/sqrt(0.97*x_12**4 + 1) - 0.4)*tanh(sinh(0.99*x_12) + 0.68) + 0.12) + 0.18*Abs(7.68*x_14 + 8.67) + 1.55*asinh(0.32*exp(1.0*x_13) - 0.32*sinh(cos(0.97*sinh(cos(1.13*x_13 - 0.19))))) + 4.99*atan(1.0*(0.55*sin(0.5*x_6) + 0.24)*log(sin(1.01*x_6 + 0.01) + 1.42) - 3.71*log(log(0.24*sin(0.91*exp(asinh(asinh(0.54*x_13 + 0.83)/cos(cos(0.13*exp(-0.54*x_13)))))) + 1) + 1) - 1.78*sin(0.33*x_12 + 5.14) + 1.0*sin(Abs(log(asinh(cos(log(Abs(1.01*x_10 - 0.41) + 1))) + 1)**3 + 0.14) - 0.11) - 1.06*sin(sin(0.98*x_8 - 1.27))**20 + 0.99*tan(1.76*atan(sin((-0.09*x_16 - sin(0.24*x_16 + 0.01)**3 - 0.59)**3)) + 3.02) - 1.0*tan(0.09*x_9 + 0.23*sin(-1.33*x_9 + 1.33*sin(1.0*x_9 - 0.34) + 0.93) - 0.03) - 1.06*tan(sinh(tanh(asinh(0.98*x_8 - 0.03) + 0.09)**7)) + 1.02*tan(asinh(atan(0.43*x_4 + 0.22*sin(0.91*x_4)**4 + 0.12)**2 - 0.06)) - 0.07*sinh(1.01*x_14 + 0.02) + 0.06*sinh(1.33*x_2 - 0.35) + 0.07*cosh(1.01*x_14 + 0.02) - 0.06*cosh(1.33*x_2 - 0.35) + 2.0*tanh((0.35*(0.52*x_11 + 1)**2/sqrt(0.27*(0.52*x_11 + 1)**4 + 1) - 0.4)*tanh(sinh(0.37*x_11 + 0.72) + 0.68) + 0.12) + 1.0*tanh(sinh(sinh(1.32*x_14 + 0.03))) - 0.8*tanh(sinh(sinh(1.72*x_2 - 0.46))) + 0.07*asinh(1.03*(x_14 + 0.02)**2)**3 - 0.06*asinh(1.76*(x_2 - 0.27)**2)**3 - 0.78*asinh(0.21*exp(0.84*x_15) - 0.32*sinh(cos(0.97*sinh(cos(0.95*x_15 - 0.63))))) + 0.95*atan(0.96*x_5 - 1.58) - 0.07*Max(0, 6.92*x_7 - 0.61) + 3.2 - 5.22*exp(-0.04*(-0.86*x_3 - 1)**2) + 1.91*exp(-0.07*(-x_1 - 0.45)**2)) - 1.56*atan(0.62*Abs(0.99*x_4 + sinh(sin(sin(atan(0.78*sinh(0.99*x_4 - 2.14))**2))) - 0.02))**3 + 1.29*atanh(0.16*x_16 + 0.73) - 7.02 - 0.45*exp(-0.19*(x_10 - 0.17)**2)\n"
     ]
    }
   ],
   "source": [
    "print('Formula1:', formula1)\n",
    "print('Formula2:', formula2)\n",
    "print('Formula3:', formula3)\n",
    "print('Formula4:', formula4)\n",
    "print('Formula5:', formula5)\n",
    "print('Formula6:', formula6)\n",
    "print('Formula7:', formula7)"
   ]
  },
  {
   "cell_type": "code",
   "execution_count": 23,
   "id": "bdbdc0b8",
   "metadata": {},
   "outputs": [],
   "source": [
    "def import_formula_from_txt(path):\n",
    "    with open(path, 'r') as f:\n",
    "        import_expr = f.read()\n",
    "    loaded_expr = sp.sympify(import_expr)\n",
    "    return loaded_expr\n",
    "\n",
    "def export_formula_to_txt(formula, path):\n",
    "    export_expr = sp.srepr(formula)\n",
    "    with open(path, 'w') as f:\n",
    "        f.write(export_expr)"
   ]
  },
  {
   "cell_type": "code",
   "execution_count": 24,
   "id": "b7f73c6d",
   "metadata": {},
   "outputs": [
    {
     "name": "stdout",
     "output_type": "stream",
     "text": [
      "Formula1: 1.0*(0.97 - sin(sin(0.73*(0.55*sin(0.5*x_6) + 0.24)*log(sin(1.01*x_6 + 0.01) + 1.42) - 2.72*log(log(0.24*sin(0.91*exp(asinh(asinh(0.54*x_13 + 0.83)/cos(cos(0.13*exp(-0.54*x_13)))))) + 1) + 1) - 1.31*sin(0.33*x_12 + 5.14) + 0.74*sin(Abs(log(asinh(cos(log(Abs(1.01*x_10 - 0.41) + 1))) + 1)**3 + 0.14) - 0.11) - 0.78*sin(sin(0.98*x_8 - 1.27))**20 + 0.73*tan(1.76*atan(sin((-0.09*x_16 - sin(0.24*x_16 + 0.01)**3 - 0.59)**3)) + 3.02) - 0.73*tan(0.09*x_9 + 0.23*sin(-1.33*x_9 + 1.33*sin(1.0*x_9 - 0.34) + 0.93) - 0.03) - 0.78*tan(sinh(tanh(asinh(0.98*x_8 - 0.03) + 0.09)**7)) + 0.75*tan(asinh(atan(0.43*x_4 + 0.22*sin(0.91*x_4)**4 + 0.12)**2 - 0.06)) - 0.05*sinh(1.01*x_14 + 0.02) + 0.04*sinh(1.33*x_2 - 0.35) + 0.05*cosh(1.01*x_14 + 0.02) - 0.04*cosh(1.33*x_2 - 0.35) + 1.47*tanh((0.35*(0.52*x_11 + 1)**2/sqrt(0.27*(0.52*x_11 + 1)**4 + 1) - 0.4)*tanh(sinh(0.37*x_11 + 0.72) + 0.68) + 0.12) + 0.73*tanh(sinh(sinh(1.32*x_14 + 0.03))) - 0.59*tanh(sinh(sinh(1.72*x_2 - 0.46))) + 0.05*asinh(1.03*(x_14 + 0.02)**2)**3 - 0.04*asinh(1.76*(x_2 - 0.27)**2)**3 - 0.57*asinh(0.21*exp(0.84*x_15) - 0.32*sinh(cos(0.97*sinh(cos(0.95*x_15 - 0.63))))) + 0.7*atan(0.96*x_5 - 1.58) - 0.05*Max(0, 6.92*x_7 - 0.61) + 1.9 - 3.83*exp(-0.04*(-0.86*x_3 - 1)**2) + 1.4*exp(-0.07*(-x_1 - 0.45)**2))))*(-2.02*(0.55*sin(0.5*x_6) + 0.24)*log(sin(1.01*x_6 + 0.01) + 1.42) + 7.48*log(log(0.24*sin(0.91*exp(asinh(asinh(0.54*x_13 + 0.83)/cos(cos(0.13*exp(-0.54*x_13)))))) + 1) + 1) + 3.59*sin(0.33*x_12 + 5.14) - 2.02*sin(Abs(log(asinh(cos(log(Abs(1.01*x_10 - 0.41) + 1))) + 1)**3 + 0.14) - 0.11) + 2.14*sin(sin(0.98*x_8 - 1.27))**20 - 2.0*tan(1.76*atan(sin((-0.09*x_16 - sin(0.24*x_16 + 0.01)**3 - 0.59)**3)) + 3.02) + 2.01*tan(0.09*x_9 + 0.23*sin(-1.33*x_9 + 1.33*sin(1.0*x_9 - 0.34) + 0.93) - 0.03) + 2.14*tan(sinh(tanh(asinh(0.98*x_8 - 0.03) + 0.09)**7)) - 2.05*tan(asinh(atan(0.43*x_4 + 0.22*sin(0.91*x_4)**4 + 0.12)**2 - 0.06)) + 0.14*sinh(1.01*x_14 + 0.02) - 0.11*sinh(1.33*x_2 - 0.35) - 0.14*cosh(1.01*x_14 + 0.02) + 0.11*cosh(1.33*x_2 - 0.35) - 4.03*tanh((0.35*(0.52*x_11 + 1)**2/sqrt(0.27*(0.52*x_11 + 1)**4 + 1) - 0.4)*tanh(sinh(0.37*x_11 + 0.72) + 0.68) + 0.12) - 2.01*tanh(sinh(sinh(1.32*x_14 + 0.03))) + 1.61*tanh(sinh(sinh(1.72*x_2 - 0.46))) - 0.14*asinh(1.03*(x_14 + 0.02)**2)**3 + 0.11*asinh(1.76*(x_2 - 0.27)**2)**3 + 1.58*asinh(0.21*exp(0.84*x_15) - 0.32*sinh(cos(0.97*sinh(cos(0.95*x_15 - 0.63))))) - 1.93*atan(0.96*x_5 - 1.58) + 0.14*Max(0, 6.92*x_7 - 0.61) - 3.19 + 10.52*exp(-0.04*(-0.86*x_3 - 1)**2) - 3.84*exp(-0.07*(-x_1 - 0.45)**2)) + 1.0*sin(1.01*(0.55*sin(0.5*x_6) + 0.24)*log(sin(1.01*x_6 + 0.01) + 1.42) - 3.74*log(log(0.24*sin(0.91*exp(asinh(asinh(0.54*x_13 + 0.83)/cos(cos(0.13*exp(-0.54*x_13)))))) + 1) + 1) - 1.79*sin(0.33*x_12 + 5.14) + 1.01*sin(Abs(log(asinh(cos(log(Abs(1.01*x_10 - 0.41) + 1))) + 1)**3 + 0.14) - 0.11) - 1.07*sin(sin(0.98*x_8 - 1.27))**20 + 1.0*tan(1.76*atan(sin((-0.09*x_16 - sin(0.24*x_16 + 0.01)**3 - 0.59)**3)) + 3.02) - 1.01*tan(0.09*x_9 + 0.23*sin(-1.33*x_9 + 1.33*sin(1.0*x_9 - 0.34) + 0.93) - 0.03) - 1.07*tan(sinh(tanh(asinh(0.98*x_8 - 0.03) + 0.09)**7)) + 1.03*tan(asinh(atan(0.43*x_4 + 0.22*sin(0.91*x_4)**4 + 0.12)**2 - 0.06)) - 0.07*sinh(1.01*x_14 + 0.02) + 0.06*sinh(1.33*x_2 - 0.35) + 0.07*cosh(1.01*x_14 + 0.02) - 0.06*cosh(1.33*x_2 - 0.35) + 2.02*tanh((0.35*(0.52*x_11 + 1)**2/sqrt(0.27*(0.52*x_11 + 1)**4 + 1) - 0.4)*tanh(sinh(0.37*x_11 + 0.72) + 0.68) + 0.12) + 1.01*tanh(sinh(sinh(1.32*x_14 + 0.03))) - 0.81*tanh(sinh(sinh(1.72*x_2 - 0.46))) + 0.07*asinh(1.03*(x_14 + 0.02)**2)**3 - 0.06*asinh(1.76*(x_2 - 0.27)**2)**3 - 0.79*asinh(0.21*exp(0.84*x_15) - 0.32*sinh(cos(0.97*sinh(cos(0.95*x_15 - 0.63))))) + 0.96*atan(0.96*x_5 - 1.58) - 0.07*Max(0, 6.92*x_7 - 0.61) + 3.25 - 5.26*exp(-0.04*(-0.86*x_3 - 1)**2) + 1.92*exp(-0.07*(-x_1 - 0.45)**2)) - 2.51 + 4.12*exp(-14.77*(0.06*x_1 - 0.09*x_2 - 0.09*(-1.02*x_5 + sqrt(exp(atan(2.92*x_5 - 0.01))) - 1.45)*Abs(cos(1.02*x_5 + cos(0.42*x_5))) + 0.09*exp(0.41*x_11)*sin(0.27*cos(1.33*x_11 + 0.32) + 0.02) - 0.09*log(log(0.24*sin(0.91*exp(-asinh(asinh(1.0*x_9 + 1.21)/cos(cos(0.98*exp(1.0*x_9)))))) + 1) + 1) - sin(Abs(log(asinh(cos(log(Abs(0.71*x_7 - 0.18) + 1))) + 1)**3 + 0.14) - 0.11) - 0.09*sin(0.71*x_1 + sin(0.71*x_1 - 6.07) - 5.59) + 0.1*sin(1.01*x_2 + sin(1.01*x_2 - 0.28) + 0.19) - 0.09*tan((asinh(tanh(sin(0.94*tan(sin(1.01*x_8 - 0.14))))) + 0.17)*cos(asinh(1.01*x_8 - 0.e-2))) - 0.09*tan(tanh(asinh(0.97*x_3 + 0.02) + 0.64)**18 - 0.04)*tanh(cosh(cosh(sin(0.97*x_3 + 0.02)))) + 0.01*sinh(tan(tanh(tanh(1.0*x_15 + 0.01)*Abs(tan(cos(1.0*x_15 + 0.26)))) + 0.14)) + 0.08*tanh(0.82*x_6 - 1.16) + 0.09*tanh((0.66*x_12**2/sqrt(0.97*x_12**4 + 1) - 0.4)*tanh(sinh(0.99*x_12) + 0.68) + 0.12) - 0.01*Abs(7.68*x_14 + 8.67) - 0.09*asinh(0.32*exp(1.0*x_13) - 0.32*sinh(cos(0.97*sinh(cos(1.13*x_13 - 0.19))))) + 0.09*atan(0.62*Abs(0.99*x_4 + sinh(sin(sin(atan(0.78*sinh(0.99*x_4 - 2.14))**2))) - 0.02))**3 - 0.08*atanh(0.16*x_16 + 0.73) + 0.79 + 0.03*exp(-0.19*(x_10 - 0.17)**2))**2)\n",
      "Formula2: -0.99*(0.55*sin(0.5*x_6) + 0.24)*log(sin(1.01*x_6 + 0.01) + 1.42) + 1.0*(-cos(0.99*(0.55*sin(0.5*x_6) + 0.24)*log(sin(1.01*x_6 + 0.01) + 1.42) - 3.65*log(log(0.24*sin(0.91*exp(asinh(asinh(0.54*x_13 + 0.83)/cos(cos(0.13*exp(-0.54*x_13)))))) + 1) + 1) - 1.75*sin(0.33*x_12 + 5.14) + 0.99*sin(Abs(log(asinh(cos(log(Abs(1.01*x_10 - 0.41) + 1))) + 1)**3 + 0.14) - 0.11) - 1.04*sin(sin(0.98*x_8 - 1.27))**20 + 0.98*tan(1.76*atan(sin((-0.09*x_16 - sin(0.24*x_16 + 0.01)**3 - 0.59)**3)) + 3.02) - 0.98*tan(0.09*x_9 + 0.23*sin(-1.33*x_9 + 1.33*sin(1.0*x_9 - 0.34) + 0.93) - 0.03) - 1.04*tan(sinh(tanh(asinh(0.98*x_8 - 0.03) + 0.09)**7)) + 1.0*tan(asinh(atan(0.43*x_4 + 0.22*sin(0.91*x_4)**4 + 0.12)**2 - 0.06)) - 0.07*sinh(1.01*x_14 + 0.02) + 0.06*sinh(1.33*x_2 - 0.35) + 0.07*cosh(1.01*x_14 + 0.02) - 0.06*cosh(1.33*x_2 - 0.35) + 1.97*tanh((0.35*(0.52*x_11 + 1)**2/sqrt(0.27*(0.52*x_11 + 1)**4 + 1) - 0.4)*tanh(sinh(0.37*x_11 + 0.72) + 0.68) + 0.12) + 0.98*tanh(sinh(sinh(1.32*x_14 + 0.03))) - 0.79*tanh(sinh(sinh(1.72*x_2 - 0.46))) + 0.07*asinh(1.03*(x_14 + 0.02)**2)**3 - 0.06*asinh(1.76*(x_2 - 0.27)**2)**3 - 0.77*asinh(0.21*exp(0.84*x_15) - 0.32*sinh(cos(0.97*sinh(cos(0.95*x_15 - 0.63))))) + 0.94*atan(0.96*x_5 - 1.58) - 0.07*Max(0, 6.92*x_7 - 0.61) + 3.14 - 5.14*exp(-0.04*(-0.86*x_3 - 1)**2) + 1.88*exp(-0.07*(-x_1 - 0.45)**2)) - 0.96)/(-0.03*(0.55*sin(0.5*x_6) + 0.24)*log(sin(1.01*x_6 + 0.01) + 1.42) + 0.09*log(log(0.24*sin(0.91*exp(asinh(asinh(0.54*x_13 + 0.83)/cos(cos(0.13*exp(-0.54*x_13)))))) + 1) + 1) + 0.05*sin(0.33*x_12 + 5.14) - 0.03*sin(Abs(log(asinh(cos(log(Abs(1.01*x_10 - 0.41) + 1))) + 1)**3 + 0.14) - 0.11) + 0.03*sin(sin(0.98*x_8 - 1.27))**20 - 0.03*tan(1.76*atan(sin((-0.09*x_16 - sin(0.24*x_16 + 0.01)**3 - 0.59)**3)) + 3.02) + 0.03*tan(0.09*x_9 + 0.23*sin(-1.33*x_9 + 1.33*sin(1.0*x_9 - 0.34) + 0.93) - 0.03) + 0.03*tan(sinh(tanh(asinh(0.98*x_8 - 0.03) + 0.09)**7)) - 0.03*tan(asinh(atan(0.43*x_4 + 0.22*sin(0.91*x_4)**4 + 0.12)**2 - 0.06)) - 0.05*tanh((0.35*(0.52*x_11 + 1)**2/sqrt(0.27*(0.52*x_11 + 1)**4 + 1) - 0.4)*tanh(sinh(0.37*x_11 + 0.72) + 0.68) + 0.12) - 0.03*tanh(sinh(sinh(1.32*x_14 + 0.03))) + 0.02*tanh(sinh(sinh(1.72*x_2 - 0.46))) + 0.02*asinh(0.21*exp(0.84*x_15) - 0.32*sinh(cos(0.97*sinh(cos(0.95*x_15 - 0.63))))) - 0.02*atan(0.96*x_5 - 1.58) + 0.18 + 0.13*exp(-0.04*(-0.86*x_3 - 1)**2) - 0.05*exp(-0.07*(-x_1 - 0.45)**2)) + 29.56*log(log(0.24*sin(0.91*exp(asinh(asinh(-0.23*x_1 + 0.38*x_2 + 0.37*(-1.02*x_5 + sqrt(exp(atan(2.92*x_5 - 0.01))) - 1.45)*Abs(cos(1.02*x_5 + cos(0.42*x_5))) - 0.37*exp(0.41*x_11)*sin(0.27*cos(1.33*x_11 + 0.32) + 0.02) + 0.37*log(log(0.24*sin(0.91*exp(-asinh(asinh(1.0*x_9 + 1.21)/cos(cos(0.98*exp(1.0*x_9)))))) + 1) + 1) + 4.04*sin(Abs(log(asinh(cos(log(Abs(0.71*x_7 - 0.18) + 1))) + 1)**3 + 0.14) - 0.11) + 0.35*sin(0.71*x_1 + sin(0.71*x_1 - 6.07) - 5.59) - 0.4*sin(1.01*x_2 + sin(1.01*x_2 - 0.28) + 0.19) + 0.37*tan((asinh(tanh(sin(0.94*tan(sin(1.01*x_8 - 0.14))))) + 0.17)*cos(asinh(1.01*x_8 - 0.e-2))) + 0.38*tan(tanh(asinh(0.97*x_3 + 0.02) + 0.64)**18 - 0.04)*tanh(cosh(cosh(sin(0.97*x_3 + 0.02)))) - 0.03*sinh(tan(tanh(tanh(1.0*x_15 + 0.01)*Abs(tan(cos(1.0*x_15 + 0.26)))) + 0.14)) - 0.31*tanh(0.82*x_6 - 1.16) - 0.38*tanh((0.66*x_12**2/sqrt(0.97*x_12**4 + 1) - 0.4)*tanh(sinh(0.99*x_12) + 0.68) + 0.12) + 0.04*Abs(7.68*x_14 + 8.67) + 0.38*asinh(0.32*exp(1.0*x_13) - 0.32*sinh(cos(0.97*sinh(cos(1.13*x_13 - 0.19))))) - 0.38*atan(0.62*Abs(0.99*x_4 + sinh(sin(sin(atan(0.78*sinh(0.99*x_4 - 2.14))**2))) - 0.02))**3 + 0.31*atanh(0.16*x_16 + 0.73) + 0.01 - 0.11*exp(-0.19*(x_10 - 0.17)**2))/cos(cos(0.29*exp(0.23*x_1 - 0.38*x_2 - 0.37*(-1.02*x_5 + sqrt(exp(atan(2.92*x_5 - 0.01))) - 1.45)*Abs(cos(1.02*x_5 + cos(0.42*x_5))) + 0.37*exp(0.41*x_11)*sin(0.27*cos(1.33*x_11 + 0.32) + 0.02) - 4.04*sin(Abs(log(asinh(cos(log(Abs(0.71*x_7 - 0.18) + 1))) + 1)**3 + 0.14) - 0.11) - 0.35*sin(0.71*x_1 + sin(0.71*x_1 - 6.07) - 5.59) + 0.4*sin(1.01*x_2 + sin(1.01*x_2 - 0.28) + 0.19) - 0.37*tan((asinh(tanh(sin(0.94*tan(sin(1.01*x_8 - 0.14))))) + 0.17)*cos(asinh(1.01*x_8 - 0.e-2))) - 0.38*tan(tanh(asinh(0.97*x_3 + 0.02) + 0.64)**18 - 0.04)*tanh(cosh(cosh(sin(0.97*x_3 + 0.02)))) + 0.03*sinh(tan(tanh(tanh(1.0*x_15 + 0.01)*Abs(tan(cos(1.0*x_15 + 0.26)))) + 0.14)) + 0.31*tanh(0.82*x_6 - 1.16) + 0.38*tanh((0.66*x_12**2/sqrt(0.97*x_12**4 + 1) - 0.4)*tanh(sinh(0.99*x_12) + 0.68) + 0.12) - 0.04*Abs(7.68*x_14 + 8.67) - 0.38*asinh(0.32*exp(1.0*x_13) - 0.32*sinh(cos(0.97*sinh(cos(1.13*x_13 - 0.19))))) + 0.38*atan(0.62*Abs(0.99*x_4 + sinh(sin(sin(atan(0.78*sinh(0.99*x_4 - 2.14))**2))) - 0.02))**3 - 0.31*atanh(0.16*x_16 + 0.73) + 0.11*exp(-0.19*(x_10 - 0.17)**2))/(log(0.24*sin(0.91*exp(-asinh(asinh(1.0*x_9 + 1.21)/cos(cos(0.98*exp(1.0*x_9)))))) + 1) + 1)**0.37))))) + 1) + 1) + 3.67*log(log(0.24*sin(0.91*exp(asinh(asinh(0.54*x_13 + 0.83)/cos(cos(0.13*exp(-0.54*x_13)))))) + 1) + 1) + 1.76*sin(0.33*x_12 + 5.14) - 0.99*sin(Abs(log(asinh(cos(log(Abs(1.01*x_10 - 0.41) + 1))) + 1)**3 + 0.14) - 0.11) + 1.05*sin(sin(0.98*x_8 - 1.27))**20 - 0.98*tan(1.76*atan(sin((-0.09*x_16 - sin(0.24*x_16 + 0.01)**3 - 0.59)**3)) + 3.02) + 0.99*tan(0.09*x_9 + 0.23*sin(-1.33*x_9 + 1.33*sin(1.0*x_9 - 0.34) + 0.93) - 0.03) + 1.05*tan(sinh(tanh(asinh(0.98*x_8 - 0.03) + 0.09)**7)) - 1.01*tan(asinh(atan(0.43*x_4 + 0.22*sin(0.91*x_4)**4 + 0.12)**2 - 0.06)) + 0.07*sinh(1.01*x_14 + 0.02) - 0.06*sinh(1.33*x_2 - 0.35) - 0.07*cosh(1.01*x_14 + 0.02) + 0.06*cosh(1.33*x_2 - 0.35) - 1.98*tanh((0.35*(0.52*x_11 + 1)**2/sqrt(0.27*(0.52*x_11 + 1)**4 + 1) - 0.4)*tanh(sinh(0.37*x_11 + 0.72) + 0.68) + 0.12) - 0.99*tanh(sinh(sinh(1.32*x_14 + 0.03))) + 0.79*tanh(sinh(sinh(1.72*x_2 - 0.46))) - 0.07*asinh(1.03*(x_14 + 0.02)**2)**3 + 0.06*asinh(1.76*(x_2 - 0.27)**2)**3 + 0.77*asinh(0.21*exp(0.84*x_15) - 0.32*sinh(cos(0.97*sinh(cos(0.95*x_15 - 0.63))))) - 0.94*atan(0.96*x_5 - 1.58) - 1.21*atan(0.99*(0.55*sin(0.5*x_6) + 0.24)*log(sin(1.01*x_6 + 0.01) + 1.42) - 3.65*log(log(0.24*sin(0.91*exp(asinh(asinh(0.54*x_13 + 0.83)/cos(cos(0.13*exp(-0.54*x_13)))))) + 1) + 1) - 1.75*sin(0.33*x_12 + 5.14) + 0.99*sin(Abs(log(asinh(cos(log(Abs(1.01*x_10 - 0.41) + 1))) + 1)**3 + 0.14) - 0.11) - 1.04*sin(sin(0.98*x_8 - 1.27))**20 + 0.98*tan(1.76*atan(sin((-0.09*x_16 - sin(0.24*x_16 + 0.01)**3 - 0.59)**3)) + 3.02) - 0.98*tan(0.09*x_9 + 0.23*sin(-1.33*x_9 + 1.33*sin(1.0*x_9 - 0.34) + 0.93) - 0.03) - 1.04*tan(sinh(tanh(asinh(0.98*x_8 - 0.03) + 0.09)**7)) + 1.0*tan(asinh(atan(0.43*x_4 + 0.22*sin(0.91*x_4)**4 + 0.12)**2 - 0.06)) - 0.07*sinh(1.01*x_14 + 0.02) + 0.06*sinh(1.33*x_2 - 0.35) + 0.07*cosh(1.01*x_14 + 0.02) - 0.06*cosh(1.33*x_2 - 0.35) + 1.97*tanh((0.35*(0.52*x_11 + 1)**2/sqrt(0.27*(0.52*x_11 + 1)**4 + 1) - 0.4)*tanh(sinh(0.37*x_11 + 0.72) + 0.68) + 0.12) + 0.98*tanh(sinh(sinh(1.32*x_14 + 0.03))) - 0.79*tanh(sinh(sinh(1.72*x_2 - 0.46))) + 0.07*asinh(1.03*(x_14 + 0.02)**2)**3 - 0.06*asinh(1.76*(x_2 - 0.27)**2)**3 - 0.77*asinh(0.21*exp(0.84*x_15) - 0.32*sinh(cos(0.97*sinh(cos(0.95*x_15 - 0.63))))) + 0.94*atan(0.96*x_5 - 1.58) - 0.07*Max(0, 6.92*x_7 - 0.61) + 3.14 - 5.14*exp(-0.04*(-0.86*x_3 - 1)**2) + 1.88*exp(-0.07*(-x_1 - 0.45)**2)) + 0.07*Max(0, 6.92*x_7 - 0.61) + 2.34 + 5.16*exp(-0.04*(-0.86*x_3 - 1)**2) - 1.89*exp(-0.07*(-x_1 - 0.45)**2)\n",
      "Formula3: -2.3*exp(1.0*(0.55*sin(0.5*x_6) + 0.24)*log(sin(1.01*x_6 + 0.01) + 1.42) - 1.78*sin(0.33*x_12 + 5.14) + 1.0*sin(Abs(log(asinh(cos(log(Abs(1.01*x_10 - 0.41) + 1))) + 1)**3 + 0.14) - 0.11) - 1.06*sin(sin(0.98*x_8 - 1.27))**20 + 0.99*tan(1.76*atan(sin((-0.09*x_16 - sin(0.24*x_16 + 0.01)**3 - 0.59)**3)) + 3.02) - 1.0*tan(0.09*x_9 + 0.23*sin(-1.33*x_9 + 1.33*sin(1.0*x_9 - 0.34) + 0.93) - 0.03) - 1.06*tan(sinh(tanh(asinh(0.98*x_8 - 0.03) + 0.09)**7)) + 1.02*tan(asinh(atan(0.43*x_4 + 0.22*sin(0.91*x_4)**4 + 0.12)**2 - 0.06)) - 0.07*sinh(1.01*x_14 + 0.02) + 0.06*sinh(1.33*x_2 - 0.35) + 0.07*cosh(1.01*x_14 + 0.02) - 0.06*cosh(1.33*x_2 - 0.35) + 2.0*tanh((0.35*(0.52*x_11 + 1)**2/sqrt(0.27*(0.52*x_11 + 1)**4 + 1) - 0.4)*tanh(sinh(0.37*x_11 + 0.72) + 0.68) + 0.12) + 1.0*tanh(sinh(sinh(1.32*x_14 + 0.03))) - 0.8*tanh(sinh(sinh(1.72*x_2 - 0.46))) + 0.07*asinh(1.03*(x_14 + 0.02)**2)**3 - 0.06*asinh(1.76*(x_2 - 0.27)**2)**3 - 0.78*asinh(0.21*exp(0.84*x_15) - 0.32*sinh(cos(0.97*sinh(cos(0.95*x_15 - 0.63))))) + 0.95*atan(0.96*x_5 - 1.58) - 0.07*Max(0, 6.92*x_7 - 0.61) - 5.22*exp(-0.04*(-0.86*x_3 - 1)**2) + 1.91*exp(-0.07*(-x_1 - 0.45)**2))/(log(0.24*sin(0.91*exp(asinh(asinh(0.54*x_13 + 0.83)/cos(cos(0.13*exp(-0.54*x_13)))))) + 1) + 1)**3.71 + 1.0*(sin(-0.6*x_1 + 0.97*x_2 + 0.95*(-1.02*x_5 + sqrt(exp(atan(2.92*x_5 - 0.01))) - 1.45)*Abs(cos(1.02*x_5 + cos(0.42*x_5))) - 0.95*exp(0.41*x_11)*sin(0.27*cos(1.33*x_11 + 0.32) + 0.02) + 0.96*log(log(0.24*sin(0.91*exp(-asinh(asinh(1.0*x_9 + 1.21)/cos(cos(0.98*exp(1.0*x_9)))))) + 1) + 1) + 10.44*sin(Abs(log(asinh(cos(log(Abs(0.71*x_7 - 0.18) + 1))) + 1)**3 + 0.14) - 0.11) + 0.91*sin(0.71*x_1 + sin(0.71*x_1 - 6.07) - 5.59) - 1.03*sin(1.01*x_2 + sin(1.01*x_2 - 0.28) + 0.19) + 0.96*tan((asinh(tanh(sin(0.94*tan(sin(1.01*x_8 - 0.14))))) + 0.17)*cos(asinh(1.01*x_8 - 0.e-2))) + 0.98*tan(tanh(asinh(0.97*x_3 + 0.02) + 0.64)**18 - 0.04)*tanh(cosh(cosh(sin(0.97*x_3 + 0.02)))) - 0.07*sinh(tan(tanh(tanh(1.0*x_15 + 0.01)*Abs(tan(cos(1.0*x_15 + 0.26)))) + 0.14)) - 0.8*tanh(0.82*x_6 - 1.16) - 0.97*tanh((0.66*x_12**2/sqrt(0.97*x_12**4 + 1) - 0.4)*tanh(sinh(0.99*x_12) + 0.68) + 0.12) + 0.11*Abs(7.68*x_14 + 8.67) + 0.97*asinh(0.32*exp(1.0*x_13) - 0.32*sinh(cos(0.97*sinh(cos(1.13*x_13 - 0.19))))) - 0.98*atan(0.62*Abs(0.99*x_4 + sinh(sin(sin(atan(0.78*sinh(0.99*x_4 - 2.14))**2))) - 0.02))**3 + 0.81*atanh(0.16*x_16 + 0.73) - 3.93 - 0.28*exp(-0.19*(x_10 - 0.17)**2)) - 1.23)*(-0.62*x_1 + 1.0*x_2 + 0.98*(-1.02*x_5 + sqrt(exp(atan(2.92*x_5 - 0.01))) - 1.45)*Abs(cos(1.02*x_5 + cos(0.42*x_5))) - 0.98*exp(0.41*x_11)*sin(0.27*cos(1.33*x_11 + 0.32) + 0.02) + 0.99*log(log(0.24*sin(0.91*exp(-asinh(asinh(1.0*x_9 + 1.21)/cos(cos(0.98*exp(1.0*x_9)))))) + 1) + 1) + 10.8*sin(Abs(log(asinh(cos(log(Abs(0.71*x_7 - 0.18) + 1))) + 1)**3 + 0.14) - 0.11) + 0.94*sin(0.71*x_1 + sin(0.71*x_1 - 6.07) - 5.59) - 1.07*sin(1.01*x_2 + sin(1.01*x_2 - 0.28) + 0.19) + 1.0*tan((asinh(tanh(sin(0.94*tan(sin(1.01*x_8 - 0.14))))) + 0.17)*cos(asinh(1.01*x_8 - 0.e-2))) + 1.02*tan(tanh(asinh(0.97*x_3 + 0.02) + 0.64)**18 - 0.04)*tanh(cosh(cosh(sin(0.97*x_3 + 0.02)))) - 0.08*sinh(tan(tanh(tanh(1.0*x_15 + 0.01)*Abs(tan(cos(1.0*x_15 + 0.26)))) + 0.14)) - 0.82*tanh(0.82*x_6 - 1.16) - 1.0*tanh((0.66*x_12**2/sqrt(0.97*x_12**4 + 1) - 0.4)*tanh(sinh(0.99*x_12) + 0.68) + 0.12) + 0.12*Abs(7.68*x_14 + 8.67) + 1.01*asinh(0.32*exp(1.0*x_13) - 0.32*sinh(cos(0.97*sinh(cos(1.13*x_13 - 0.19))))) - 1.01*atan(0.62*Abs(0.99*x_4 + sinh(sin(sin(atan(0.78*sinh(0.99*x_4 - 2.14))**2))) - 0.02))**3 + 0.84*atanh(0.16*x_16 + 0.73) - 10.08 - 0.29*exp(-0.19*(x_10 - 0.17)**2)) - 8.6*sin(0.76*(0.55*sin(0.5*x_6) + 0.24)*log(sin(1.01*x_6 + 0.01) + 1.42) - 2.83*log(log(0.24*sin(0.91*exp(asinh(asinh(0.54*x_13 + 0.83)/cos(cos(0.13*exp(-0.54*x_13)))))) + 1) + 1) - 1.36*sin(0.33*x_12 + 5.14) + 0.76*sin(Abs(log(asinh(cos(log(Abs(1.01*x_10 - 0.41) + 1))) + 1)**3 + 0.14) - 0.11) - 0.81*sin(sin(0.98*x_8 - 1.27))**20 + 0.76*tan(1.76*atan(sin((-0.09*x_16 - sin(0.24*x_16 + 0.01)**3 - 0.59)**3)) + 3.02) - 0.76*tan(0.09*x_9 + 0.23*sin(-1.33*x_9 + 1.33*sin(1.0*x_9 - 0.34) + 0.93) - 0.03) - 0.81*tan(sinh(tanh(asinh(0.98*x_8 - 0.03) + 0.09)**7)) + 0.78*tan(asinh(atan(0.43*x_4 + 0.22*sin(0.91*x_4)**4 + 0.12)**2 - 0.06)) - 0.05*sinh(1.01*x_14 + 0.02) + 0.04*sinh(1.33*x_2 - 0.35) + 0.05*cosh(1.01*x_14 + 0.02) - 0.04*cosh(1.33*x_2 - 0.35) + 1.52*tanh((0.35*(0.52*x_11 + 1)**2/sqrt(0.27*(0.52*x_11 + 1)**4 + 1) - 0.4)*tanh(sinh(0.37*x_11 + 0.72) + 0.68) + 0.12) + 0.76*tanh(sinh(sinh(1.32*x_14 + 0.03))) - 0.61*tanh(sinh(sinh(1.72*x_2 - 0.46))) + 0.05*asinh(1.03*(x_14 + 0.02)**2)**3 - 0.04*asinh(1.76*(x_2 - 0.27)**2)**3 - 0.6*asinh(0.21*exp(0.84*x_15) - 0.32*sinh(cos(0.97*sinh(cos(0.95*x_15 - 0.63))))) + 0.73*atan(0.96*x_5 - 1.58) - 0.05*Max(0, 6.92*x_7 - 0.61) + 1.42 - 3.98*exp(-0.04*(-0.86*x_3 - 1)**2) + 1.45*exp(-0.07*(-x_1 - 0.45)**2)) - 0.09*sin(2.0*(0.55*sin(0.5*x_6) + 0.24)*log(sin(1.01*x_6 + 0.01) + 1.42) - 7.42*log(log(0.24*sin(0.91*exp(asinh(asinh(0.54*x_13 + 0.83)/cos(cos(0.13*exp(-0.54*x_13)))))) + 1) + 1) - 3.56*sin(0.33*x_12 + 5.14) + 2.0*sin(Abs(log(asinh(cos(log(Abs(1.01*x_10 - 0.41) + 1))) + 1)**3 + 0.14) - 0.11) - 2.12*sin(sin(0.98*x_8 - 1.27))**20 + 1.98*tan(1.76*atan(sin((-0.09*x_16 - sin(0.24*x_16 + 0.01)**3 - 0.59)**3)) + 3.02) - 2.0*tan(0.09*x_9 + 0.23*sin(-1.33*x_9 + 1.33*sin(1.0*x_9 - 0.34) + 0.93) - 0.03) - 2.12*tan(sinh(tanh(asinh(0.98*x_8 - 0.03) + 0.09)**7)) + 2.04*tan(asinh(atan(0.43*x_4 + 0.22*sin(0.91*x_4)**4 + 0.12)**2 - 0.06)) - 0.14*sinh(1.01*x_14 + 0.02) + 0.11*sinh(1.33*x_2 - 0.35) + 0.14*cosh(1.01*x_14 + 0.02) - 0.11*cosh(1.33*x_2 - 0.35) + 4.0*tanh((0.35*(0.52*x_11 + 1)**2/sqrt(0.27*(0.52*x_11 + 1)**4 + 1) - 0.4)*tanh(sinh(0.37*x_11 + 0.72) + 0.68) + 0.12) + 2.0*tanh(sinh(sinh(1.32*x_14 + 0.03))) - 1.6*tanh(sinh(sinh(1.72*x_2 - 0.46))) + 0.14*asinh(1.03*(x_14 + 0.02)**2)**3 - 0.11*asinh(1.76*(x_2 - 0.27)**2)**3 - 1.56*asinh(0.21*exp(0.84*x_15) - 0.32*sinh(cos(0.97*sinh(cos(0.95*x_15 - 0.63))))) + 1.91*atan(0.96*x_5 - 1.58) - 0.14*Max(0, 6.92*x_7 - 0.61) + 6.38 - 10.44*exp(-0.04*(-0.86*x_3 - 1)**2) + 3.81*exp(-0.07*(-x_1 - 0.45)**2)) - 7.2\n",
      "Formula4: -7.07*sin(-0.47*x_1 + 0.76*x_2 + 0.74*(-1.02*x_5 + sqrt(exp(atan(2.92*x_5 - 0.01))) - 1.45)*Abs(cos(1.02*x_5 + cos(0.42*x_5))) - 0.74*exp(0.41*x_11)*sin(0.27*cos(1.33*x_11 + 0.32) + 0.02) + 0.75*log(log(0.24*sin(0.91*exp(-asinh(asinh(1.0*x_9 + 1.21)/cos(cos(0.98*exp(1.0*x_9)))))) + 1) + 1) + 8.18*sin(Abs(log(asinh(cos(log(Abs(0.71*x_7 - 0.18) + 1))) + 1)**3 + 0.14) - 0.11) + 0.71*sin(0.71*x_1 + sin(0.71*x_1 - 6.07) - 5.59) - 0.81*sin(1.01*x_2 + sin(1.01*x_2 - 0.28) + 0.19) + 0.76*tan((asinh(tanh(sin(0.94*tan(sin(1.01*x_8 - 0.14))))) + 0.17)*cos(asinh(1.01*x_8 - 0.e-2))) + 0.77*tan(tanh(asinh(0.97*x_3 + 0.02) + 0.64)**18 - 0.04)*tanh(cosh(cosh(sin(0.97*x_3 + 0.02)))) - 0.06*sinh(tan(tanh(tanh(1.0*x_15 + 0.01)*Abs(tan(cos(1.0*x_15 + 0.26)))) + 0.14)) - 0.62*tanh(0.82*x_6 - 1.16) - 0.76*tanh((0.66*x_12**2/sqrt(0.97*x_12**4 + 1) - 0.4)*tanh(sinh(0.99*x_12) + 0.68) + 0.12) + 0.09*Abs(7.68*x_14 + 8.67) + 0.76*asinh(0.32*exp(1.0*x_13) - 0.32*sinh(cos(0.97*sinh(cos(1.13*x_13 - 0.19))))) - 0.77*atan(0.62*Abs(0.99*x_4 + sinh(sin(sin(atan(0.78*sinh(0.99*x_4 - 2.14))**2))) - 0.02))**3 + 0.63*atanh(0.16*x_16 + 0.73) - 0.6 - 0.22*exp(-0.19*(x_10 - 0.17)**2)) + 40.44*asinh(0.46*exp(0.36*(0.55*sin(0.5*x_6) + 0.24)*log(sin(1.01*x_6 + 0.01) + 1.42) - 0.65*sin(0.33*x_12 + 5.14) + 0.36*sin(Abs(log(asinh(cos(log(Abs(1.01*x_10 - 0.41) + 1))) + 1)**3 + 0.14) - 0.11) - 0.38*sin(sin(0.98*x_8 - 1.27))**20 + 0.36*tan(1.76*atan(sin((-0.09*x_16 - sin(0.24*x_16 + 0.01)**3 - 0.59)**3)) + 3.02) - 0.36*tan(0.09*x_9 + 0.23*sin(-1.33*x_9 + 1.33*sin(1.0*x_9 - 0.34) + 0.93) - 0.03) - 0.38*tan(sinh(tanh(asinh(0.98*x_8 - 0.03) + 0.09)**7)) + 0.37*tan(asinh(atan(0.43*x_4 + 0.22*sin(0.91*x_4)**4 + 0.12)**2 - 0.06)) - 0.03*sinh(1.01*x_14 + 0.02) + 0.02*sinh(1.33*x_2 - 0.35) + 0.03*cosh(1.01*x_14 + 0.02) - 0.02*cosh(1.33*x_2 - 0.35) + 0.73*tanh((0.35*(0.52*x_11 + 1)**2/sqrt(0.27*(0.52*x_11 + 1)**4 + 1) - 0.4)*tanh(sinh(0.37*x_11 + 0.72) + 0.68) + 0.12) + 0.36*tanh(sinh(sinh(1.32*x_14 + 0.03))) - 0.29*tanh(sinh(sinh(1.72*x_2 - 0.46))) + 0.03*asinh(1.03*(x_14 + 0.02)**2)**3 - 0.02*asinh(1.76*(x_2 - 0.27)**2)**3 - 0.28*asinh(0.21*exp(0.84*x_15) - 0.32*sinh(cos(0.97*sinh(cos(0.95*x_15 - 0.63))))) + 0.35*atan(0.96*x_5 - 1.58) - 0.02*Max(0, 6.92*x_7 - 0.61) - 1.89*exp(-0.04*(-0.86*x_3 - 1)**2) + 0.69*exp(-0.07*(-x_1 - 0.45)**2))/(log(0.24*sin(0.91*exp(asinh(asinh(0.54*x_13 + 0.83)/cos(cos(0.13*exp(-0.54*x_13)))))) + 1) + 1)**1.35 - 0.32*sinh(cos(0.97*sinh(cos(0.41*(0.55*sin(0.5*x_6) + 0.24)*log(sin(1.01*x_6 + 0.01) + 1.42) - 1.52*log(log(0.24*sin(0.91*exp(asinh(asinh(0.54*x_13 + 0.83)/cos(cos(0.13*exp(-0.54*x_13)))))) + 1) + 1) - 0.73*sin(0.33*x_12 + 5.14) + 0.41*sin(Abs(log(asinh(cos(log(Abs(1.01*x_10 - 0.41) + 1))) + 1)**3 + 0.14) - 0.11) - 0.43*sin(sin(0.98*x_8 - 1.27))**20 + 0.41*tan(1.76*atan(sin((-0.09*x_16 - sin(0.24*x_16 + 0.01)**3 - 0.59)**3)) + 3.02) - 0.41*tan(0.09*x_9 + 0.23*sin(-1.33*x_9 + 1.33*sin(1.0*x_9 - 0.34) + 0.93) - 0.03) - 0.43*tan(sinh(tanh(asinh(0.98*x_8 - 0.03) + 0.09)**7)) + 0.42*tan(asinh(atan(0.43*x_4 + 0.22*sin(0.91*x_4)**4 + 0.12)**2 - 0.06)) - 0.03*sinh(1.01*x_14 + 0.02) + 0.02*sinh(1.33*x_2 - 0.35) + 0.03*cosh(1.01*x_14 + 0.02) - 0.02*cosh(1.33*x_2 - 0.35) + 0.82*tanh((0.35*(0.52*x_11 + 1)**2/sqrt(0.27*(0.52*x_11 + 1)**4 + 1) - 0.4)*tanh(sinh(0.37*x_11 + 0.72) + 0.68) + 0.12) + 0.41*tanh(sinh(sinh(1.32*x_14 + 0.03))) - 0.33*tanh(sinh(sinh(1.72*x_2 - 0.46))) + 0.03*asinh(1.03*(x_14 + 0.02)**2)**3 - 0.02*asinh(1.76*(x_2 - 0.27)**2)**3 - 0.32*asinh(0.21*exp(0.84*x_15) - 0.32*sinh(cos(0.97*sinh(cos(0.95*x_15 - 0.63))))) + 0.39*atan(0.96*x_5 - 1.58) - 0.03*Max(0, 6.92*x_7 - 0.61) + 0.24 - 2.14*exp(-0.04*(-0.86*x_3 - 1)**2) + 0.78*exp(-0.07*(-x_1 - 0.45)**2)))))) + 1.18\n",
      "Formula5: 11.0 - 21.91*exp(-0.85*(-0.16*(0.55*sin(0.5*x_6) + 0.24)*log(sin(1.01*x_6 + 0.01) + 1.42) + 0.6*log(log(0.24*sin(0.91*exp(asinh(asinh(0.54*x_13 + 0.83)/cos(cos(0.13*exp(-0.54*x_13)))))) + 1) + 1) + 0.29*sin(0.33*x_12 + 5.14) - 0.16*sin(Abs(log(asinh(cos(log(Abs(1.01*x_10 - 0.41) + 1))) + 1)**3 + 0.14) - 0.11) + 0.17*sin(sin(0.98*x_8 - 1.27))**20 - 0.16*tan(1.76*atan(sin((-0.09*x_16 - sin(0.24*x_16 + 0.01)**3 - 0.59)**3)) + 3.02) + 0.16*tan(0.09*x_9 + 0.23*sin(-1.33*x_9 + 1.33*sin(1.0*x_9 - 0.34) + 0.93) - 0.03) + 0.17*tan(sinh(tanh(asinh(0.98*x_8 - 0.03) + 0.09)**7)) - 0.16*tan(asinh(atan(0.43*x_4 + 0.22*sin(0.91*x_4)**4 + 0.12)**2 - 0.06)) + 0.01*sinh(1.01*x_14 + 0.02) - 0.01*sinh(1.33*x_2 - 0.35) - 0.01*cosh(1.01*x_14 + 0.02) + 0.01*cosh(1.33*x_2 - 0.35) - 0.32*tanh((0.35*(0.52*x_11 + 1)**2/sqrt(0.27*(0.52*x_11 + 1)**4 + 1) - 0.4)*tanh(sinh(0.37*x_11 + 0.72) + 0.68) + 0.12) - 0.16*tanh(sinh(sinh(1.32*x_14 + 0.03))) + 0.13*tanh(sinh(sinh(1.72*x_2 - 0.46))) - 0.01*asinh(1.03*(x_14 + 0.02)**2)**3 + 0.01*asinh(1.76*(x_2 - 0.27)**2)**3 + 0.13*asinh(0.21*exp(0.84*x_15) - 0.32*sinh(cos(0.97*sinh(cos(0.95*x_15 - 0.63))))) - 0.15*atan(0.96*x_5 - 1.58) + 0.01*Max(0, 6.92*x_7 - 0.61) - 1 + 0.84*exp(-0.04*(-0.86*x_3 - 1)**2) - 0.31*exp(-0.07*(-x_1 - 0.45)**2))**2) + 15.62*exp(-16.29*(0.06*x_1 - 0.09*x_2 - 0.09*(-1.02*x_5 + sqrt(exp(atan(2.92*x_5 - 0.01))) - 1.45)*Abs(cos(1.02*x_5 + cos(0.42*x_5))) + 0.09*exp(0.41*x_11)*sin(0.27*cos(1.33*x_11 + 0.32) + 0.02) - 0.09*log(log(0.24*sin(0.91*exp(-asinh(asinh(1.0*x_9 + 1.21)/cos(cos(0.98*exp(1.0*x_9)))))) + 1) + 1) - sin(Abs(log(asinh(cos(log(Abs(0.71*x_7 - 0.18) + 1))) + 1)**3 + 0.14) - 0.11) - 0.09*sin(0.71*x_1 + sin(0.71*x_1 - 6.07) - 5.59) + 0.1*sin(1.01*x_2 + sin(1.01*x_2 - 0.28) + 0.19) - 0.09*tan((asinh(tanh(sin(0.94*tan(sin(1.01*x_8 - 0.14))))) + 0.17)*cos(asinh(1.01*x_8 - 0.e-2))) - 0.09*tan(tanh(asinh(0.97*x_3 + 0.02) + 0.64)**18 - 0.04)*tanh(cosh(cosh(sin(0.97*x_3 + 0.02)))) + 0.01*sinh(tan(tanh(tanh(1.0*x_15 + 0.01)*Abs(tan(cos(1.0*x_15 + 0.26)))) + 0.14)) + 0.08*tanh(0.82*x_6 - 1.16) + 0.09*tanh((0.66*x_12**2/sqrt(0.97*x_12**4 + 1) - 0.4)*tanh(sinh(0.99*x_12) + 0.68) + 0.12) - 0.01*Abs(7.68*x_14 + 8.67) - 0.09*asinh(0.32*exp(1.0*x_13) - 0.32*sinh(cos(0.97*sinh(cos(1.13*x_13 - 0.19))))) + 0.09*atan(0.62*Abs(0.99*x_4 + sinh(sin(sin(atan(0.78*sinh(0.99*x_4 - 2.14))**2))) - 0.02))**3 - 0.08*atanh(0.16*x_16 + 0.73) + 0.28 + 0.03*exp(-0.19*(x_10 - 0.17)**2))**2)\n",
      "Formula6: 0.99*(-0.46*x_1 + 0.74*x_2 + 0.72*(-1.02*x_5 + sqrt(exp(atan(2.92*x_5 - 0.01))) - 1.45)*Abs(cos(1.02*x_5 + cos(0.42*x_5))) - 0.72*exp(0.41*x_11)*sin(0.27*cos(1.33*x_11 + 0.32) + 0.02) + 0.73*log(log(0.24*sin(0.91*exp(-asinh(asinh(1.0*x_9 + 1.21)/cos(cos(0.98*exp(1.0*x_9)))))) + 1) + 1) + 7.96*sin(Abs(log(asinh(cos(log(Abs(0.71*x_7 - 0.18) + 1))) + 1)**3 + 0.14) - 0.11) + 0.69*sin(0.71*x_1 + sin(0.71*x_1 - 6.07) - 5.59) - 0.79*sin(1.01*x_2 + sin(1.01*x_2 - 0.28) + 0.19) + 0.73*tan((asinh(tanh(sin(0.94*tan(sin(1.01*x_8 - 0.14))))) + 0.17)*cos(asinh(1.01*x_8 - 0.e-2))) + 0.75*tan(tanh(asinh(0.97*x_3 + 0.02) + 0.64)**18 - 0.04)*tanh(cosh(cosh(sin(0.97*x_3 + 0.02)))) - 0.06*sinh(tan(tanh(tanh(1.0*x_15 + 0.01)*Abs(tan(cos(1.0*x_15 + 0.26)))) + 0.14)) - 0.61*tanh(0.82*x_6 - 1.16) - 0.74*tanh((0.66*x_12**2/sqrt(0.97*x_12**4 + 1) - 0.4)*tanh(sinh(0.99*x_12) + 0.68) + 0.12) + 0.08*Abs(7.68*x_14 + 8.67) + 0.74*asinh(0.32*exp(1.0*x_13) - 0.32*sinh(cos(0.97*sinh(cos(1.13*x_13 - 0.19))))) - 0.74*atan(0.62*Abs(0.99*x_4 + sinh(sin(sin(atan(0.78*sinh(0.99*x_4 - 2.14))**2))) - 0.02))**3 + 0.62*atanh(0.16*x_16 + 0.73) - 3.31 - 0.22*exp(-0.19*(x_10 - 0.17)**2))*(-0.63*x_1 + 1.01*x_2 + 0.99*(-1.02*x_5 + sqrt(exp(atan(2.92*x_5 - 0.01))) - 1.45)*Abs(cos(1.02*x_5 + cos(0.42*x_5))) - 0.99*exp(0.41*x_11)*sin(0.27*cos(1.33*x_11 + 0.32) + 0.02) + 1.0*log(log(0.24*sin(0.91*exp(-asinh(asinh(1.0*x_9 + 1.21)/cos(cos(0.98*exp(1.0*x_9)))))) + 1) + 1) + 10.85*sin(Abs(log(asinh(cos(log(Abs(0.71*x_7 - 0.18) + 1))) + 1)**3 + 0.14) - 0.11) + 0.95*sin(0.71*x_1 + sin(0.71*x_1 - 6.07) - 5.59) - 1.07*sin(1.01*x_2 + sin(1.01*x_2 - 0.28) + 0.19) + sin(-0.57*x_1 + 0.93*x_2 + 0.91*(-1.02*x_5 + sqrt(exp(atan(2.92*x_5 - 0.01))) - 1.45)*Abs(cos(1.02*x_5 + cos(0.42*x_5))) - 0.91*exp(0.41*x_11)*sin(0.27*cos(1.33*x_11 + 0.32) + 0.02) + 0.92*log(log(0.24*sin(0.91*exp(-asinh(asinh(1.0*x_9 + 1.21)/cos(cos(0.98*exp(1.0*x_9)))))) + 1) + 1) + 9.95*sin(Abs(log(asinh(cos(log(Abs(0.71*x_7 - 0.18) + 1))) + 1)**3 + 0.14) - 0.11) + 0.87*sin(0.71*x_1 + sin(0.71*x_1 - 6.07) - 5.59) - 0.99*sin(1.01*x_2 + sin(1.01*x_2 - 0.28) + 0.19) + 0.92*tan((asinh(tanh(sin(0.94*tan(sin(1.01*x_8 - 0.14))))) + 0.17)*cos(asinh(1.01*x_8 - 0.e-2))) + 0.94*tan(tanh(asinh(0.97*x_3 + 0.02) + 0.64)**18 - 0.04)*tanh(cosh(cosh(sin(0.97*x_3 + 0.02)))) - 0.07*sinh(tan(tanh(tanh(1.0*x_15 + 0.01)*Abs(tan(cos(1.0*x_15 + 0.26)))) + 0.14)) - 0.76*tanh(0.82*x_6 - 1.16) - 0.92*tanh((0.66*x_12**2/sqrt(0.97*x_12**4 + 1) - 0.4)*tanh(sinh(0.99*x_12) + 0.68) + 0.12) + 0.11*Abs(7.68*x_14 + 8.67) + 0.93*asinh(0.32*exp(1.0*x_13) - 0.32*sinh(cos(0.97*sinh(cos(1.13*x_13 - 0.19))))) - 0.93*atan(0.62*Abs(0.99*x_4 + sinh(sin(sin(atan(0.78*sinh(0.99*x_4 - 2.14))**2))) - 0.02))**3 + 0.77*atanh(0.16*x_16 + 0.73) - 3.94 - 0.27*exp(-0.19*(x_10 - 0.17)**2)) + 1.0*tan((asinh(tanh(sin(0.94*tan(sin(1.01*x_8 - 0.14))))) + 0.17)*cos(asinh(1.01*x_8 - 0.e-2))) + 1.02*tan(tanh(asinh(0.97*x_3 + 0.02) + 0.64)**18 - 0.04)*tanh(cosh(cosh(sin(0.97*x_3 + 0.02)))) - 0.08*sinh(tan(tanh(tanh(1.0*x_15 + 0.01)*Abs(tan(cos(1.0*x_15 + 0.26)))) + 0.14)) - 0.83*tanh(0.82*x_6 - 1.16) - 1.01*tanh((0.66*x_12**2/sqrt(0.97*x_12**4 + 1) - 0.4)*tanh(sinh(0.99*x_12) + 0.68) + 0.12) + 0.12*Abs(7.68*x_14 + 8.67) + 1.01*asinh(0.32*exp(1.0*x_13) - 0.32*sinh(cos(0.97*sinh(cos(1.13*x_13 - 0.19))))) - 1.02*atan(0.62*Abs(0.99*x_4 + sinh(sin(sin(atan(0.78*sinh(0.99*x_4 - 2.14))**2))) - 0.02))**3 + 0.84*atanh(0.16*x_16 + 0.73) - 1.08 - 0.3*exp(-0.19*(x_10 - 0.17)**2)) + 1.01*(-1.05*(0.55*sin(0.5*x_6) + 0.24)*log(sin(1.01*x_6 + 0.01) + 1.42) + 3.88*log(log(0.24*sin(0.91*exp(asinh(asinh(0.54*x_13 + 0.83)/cos(cos(0.13*exp(-0.54*x_13)))))) + 1) + 1) + 1.86*sin(0.33*x_12 + 5.14) - 1.05*sin(Abs(log(asinh(cos(log(Abs(1.01*x_10 - 0.41) + 1))) + 1)**3 + 0.14) - 0.11) + 1.11*sin(sin(0.98*x_8 - 1.27))**20 - 1.04*tan(1.76*atan(sin((-0.09*x_16 - sin(0.24*x_16 + 0.01)**3 - 0.59)**3)) + 3.02) + 1.05*tan(0.09*x_9 + 0.23*sin(-1.33*x_9 + 1.33*sin(1.0*x_9 - 0.34) + 0.93) - 0.03) + 1.11*tan(sinh(tanh(asinh(0.98*x_8 - 0.03) + 0.09)**7)) - 1.07*tan(asinh(atan(0.43*x_4 + 0.22*sin(0.91*x_4)**4 + 0.12)**2 - 0.06)) + 0.07*sinh(1.01*x_14 + 0.02) - 0.06*sinh(1.33*x_2 - 0.35) - 0.07*cosh(1.01*x_14 + 0.02) + 0.06*cosh(1.33*x_2 - 0.35) - 2.09*tanh((0.35*(0.52*x_11 + 1)**2/sqrt(0.27*(0.52*x_11 + 1)**4 + 1) - 0.4)*tanh(sinh(0.37*x_11 + 0.72) + 0.68) + 0.12) - 1.04*tanh(sinh(sinh(1.32*x_14 + 0.03))) + 0.84*tanh(sinh(sinh(1.72*x_2 - 0.46))) - 0.07*asinh(1.03*(x_14 + 0.02)**2)**3 + 0.06*asinh(1.76*(x_2 - 0.27)**2)**3 + 0.82*asinh(0.21*exp(0.84*x_15) - 0.32*sinh(cos(0.97*sinh(cos(0.95*x_15 - 0.63))))) - 1.0*atan(0.96*x_5 - 1.58) + 0.07*Max(0, 6.92*x_7 - 0.61) - 3.36 + 5.46*exp(-0.04*(-0.86*x_3 - 1)**2) - 1.99*exp(-0.07*(-x_1 - 0.45)**2))*sin(atan(4.48*sqrt(exp(0.92*(0.55*sin(0.5*x_6) + 0.24)*log(sin(1.01*x_6 + 0.01) + 1.42) - 1.63*sin(0.33*x_12 + 5.14) + 0.92*sin(Abs(log(asinh(cos(log(Abs(1.01*x_10 - 0.41) + 1))) + 1)**3 + 0.14) - 0.11) - 0.97*sin(sin(0.98*x_8 - 1.27))**20 + 0.91*tan(1.76*atan(sin((-0.09*x_16 - sin(0.24*x_16 + 0.01)**3 - 0.59)**3)) + 3.02) - 0.92*tan(0.09*x_9 + 0.23*sin(-1.33*x_9 + 1.33*sin(1.0*x_9 - 0.34) + 0.93) - 0.03) - 0.97*tan(sinh(tanh(asinh(0.98*x_8 - 0.03) + 0.09)**7)) + 0.94*tan(asinh(atan(0.43*x_4 + 0.22*sin(0.91*x_4)**4 + 0.12)**2 - 0.06)) - 0.06*sinh(1.01*x_14 + 0.02) + 0.05*sinh(1.33*x_2 - 0.35) + 0.06*cosh(1.01*x_14 + 0.02) - 0.05*cosh(1.33*x_2 - 0.35) + 1.84*tanh((0.35*(0.52*x_11 + 1)**2/sqrt(0.27*(0.52*x_11 + 1)**4 + 1) - 0.4)*tanh(sinh(0.37*x_11 + 0.72) + 0.68) + 0.12) + 0.92*tanh(sinh(sinh(1.32*x_14 + 0.03))) - 0.73*tanh(sinh(sinh(1.72*x_2 - 0.46))) + 0.06*asinh(1.03*(x_14 + 0.02)**2)**3 - 0.05*asinh(1.76*(x_2 - 0.27)**2)**3 - 0.72*asinh(0.21*exp(0.84*x_15) - 0.32*sinh(cos(0.97*sinh(cos(0.95*x_15 - 0.63))))) + 0.88*atan(0.96*x_5 - 1.58) - 0.06*Max(0, 6.92*x_7 - 0.61) - 4.79*exp(-0.04*(-0.86*x_3 - 1)**2) + 1.75*exp(-0.07*(-x_1 - 0.45)**2))/(log(0.24*sin(0.91*exp(asinh(asinh(0.54*x_13 + 0.83)/cos(cos(0.13*exp(-0.54*x_13)))))) + 1) + 1)**3.41))**2 - 0.09) - 1.17\n",
      "Formula7: -0.96*x_1 + 1.55*x_2 + 1.52*(-1.02*x_5 + sqrt(exp(atan(2.92*x_5 - 0.01))) - 1.45)*Abs(cos(1.02*x_5 + cos(0.42*x_5))) + 1.01*(-1.0*(0.55*sin(0.5*x_6) + 0.24)*log(sin(1.01*x_6 + 0.01) + 1.42) + 3.71*log(log(0.24*sin(0.91*exp(asinh(asinh(0.54*x_13 + 0.83)/cos(cos(0.13*exp(-0.54*x_13)))))) + 1) + 1) + 1.78*sin(0.33*x_12 + 5.14) - 1.0*sin(Abs(log(asinh(cos(log(Abs(1.01*x_10 - 0.41) + 1))) + 1)**3 + 0.14) - 0.11) + 1.06*sin(sin(0.98*x_8 - 1.27))**20 - 0.99*tan(1.76*atan(sin((-0.09*x_16 - sin(0.24*x_16 + 0.01)**3 - 0.59)**3)) + 3.02) + 1.0*tan(0.09*x_9 + 0.23*sin(-1.33*x_9 + 1.33*sin(1.0*x_9 - 0.34) + 0.93) - 0.03) + 1.06*tan(sinh(tanh(asinh(0.98*x_8 - 0.03) + 0.09)**7)) - 1.02*tan(asinh(atan(0.43*x_4 + 0.22*sin(0.91*x_4)**4 + 0.12)**2 - 0.06)) + 0.07*sinh(1.01*x_14 + 0.02) - 0.06*sinh(1.33*x_2 - 0.35) - 0.07*cosh(1.01*x_14 + 0.02) + 0.06*cosh(1.33*x_2 - 0.35) - 2.0*tanh((0.35*(0.52*x_11 + 1)**2/sqrt(0.27*(0.52*x_11 + 1)**4 + 1) - 0.4)*tanh(sinh(0.37*x_11 + 0.72) + 0.68) + 0.12) - 1.0*tanh(sinh(sinh(1.32*x_14 + 0.03))) + 0.8*tanh(sinh(sinh(1.72*x_2 - 0.46))) - 0.07*asinh(1.03*(x_14 + 0.02)**2)**3 + 0.06*asinh(1.76*(x_2 - 0.27)**2)**3 + 0.78*asinh(0.21*exp(0.84*x_15) - 0.32*sinh(cos(0.97*sinh(cos(0.95*x_15 - 0.63))))) - 0.95*atan(0.96*x_5 - 1.58) + 0.07*Max(0, 6.92*x_7 - 0.61) - 3.2 + 5.22*exp(-0.04*(-0.86*x_3 - 1)**2) - 1.91*exp(-0.07*(-x_1 - 0.45)**2))*sin(0.92*(0.55*sin(0.5*x_6) + 0.24)*log(sin(1.01*x_6 + 0.01) + 1.42) - 3.39*log(log(0.24*sin(0.91*exp(asinh(asinh(0.54*x_13 + 0.83)/cos(cos(0.13*exp(-0.54*x_13)))))) + 1) + 1) - 1.63*sin(0.33*x_12 + 5.14) + 0.92*sin(Abs(log(asinh(cos(log(Abs(1.01*x_10 - 0.41) + 1))) + 1)**3 + 0.14) - 0.11) - 0.97*sin(sin(0.98*x_8 - 1.27))**20 + 0.91*tan(1.76*atan(sin((-0.09*x_16 - sin(0.24*x_16 + 0.01)**3 - 0.59)**3)) + 3.02) - 0.91*tan(0.09*x_9 + 0.23*sin(-1.33*x_9 + 1.33*sin(1.0*x_9 - 0.34) + 0.93) - 0.03) - 0.97*tan(sinh(tanh(asinh(0.98*x_8 - 0.03) + 0.09)**7)) + 0.93*tan(asinh(atan(0.43*x_4 + 0.22*sin(0.91*x_4)**4 + 0.12)**2 - 0.06)) - 0.06*sinh(1.01*x_14 + 0.02) + 0.05*sinh(1.33*x_2 - 0.35) + 0.06*cosh(1.01*x_14 + 0.02) - 0.05*cosh(1.33*x_2 - 0.35) + 1.83*tanh((0.35*(0.52*x_11 + 1)**2/sqrt(0.27*(0.52*x_11 + 1)**4 + 1) - 0.4)*tanh(sinh(0.37*x_11 + 0.72) + 0.68) + 0.12) + 0.91*tanh(sinh(sinh(1.32*x_14 + 0.03))) - 0.73*tanh(sinh(sinh(1.72*x_2 - 0.46))) + 0.06*asinh(1.03*(x_14 + 0.02)**2)**3 - 0.05*asinh(1.76*(x_2 - 0.27)**2)**3 - 0.71*asinh(0.21*exp(0.84*x_15) - 0.32*sinh(cos(0.97*sinh(cos(0.95*x_15 - 0.63))))) + 0.87*atan(0.96*x_5 - 1.58) - 0.06*Max(0, 6.92*x_7 - 0.61) + 2.93 - 4.77*exp(-0.04*(-0.86*x_3 - 1)**2) + 1.74*exp(-0.07*(-x_1 - 0.45)**2)) - 1.52*exp(0.41*x_11)*sin(0.27*cos(1.33*x_11 + 0.32) + 0.02) + 1.53*log(log(0.24*sin(0.91*exp(-asinh(asinh(1.0*x_9 + 1.21)/cos(cos(0.98*exp(1.0*x_9)))))) + 1) + 1) + 16.64*sin(Abs(log(asinh(cos(log(Abs(0.71*x_7 - 0.18) + 1))) + 1)**3 + 0.14) - 0.11) + 1.45*sin(0.71*x_1 + sin(0.71*x_1 - 6.07) - 5.59) - 1.65*sin(1.01*x_2 + sin(1.01*x_2 - 0.28) + 0.19) + 1.83*sin(sin(-0.62*x_1 + 1.0*x_2 + 0.98*(-1.02*x_5 + sqrt(exp(atan(2.92*x_5 - 0.01))) - 1.45)*Abs(cos(1.02*x_5 + cos(0.42*x_5))) - 0.98*exp(0.41*x_11)*sin(0.27*cos(1.33*x_11 + 0.32) + 0.02) + 0.99*log(log(0.24*sin(0.91*exp(-asinh(asinh(1.0*x_9 + 1.21)/cos(cos(0.98*exp(1.0*x_9)))))) + 1) + 1) + 10.74*sin(Abs(log(asinh(cos(log(Abs(0.71*x_7 - 0.18) + 1))) + 1)**3 + 0.14) - 0.11) + 0.94*sin(0.71*x_1 + sin(0.71*x_1 - 6.07) - 5.59) - 1.06*sin(1.01*x_2 + sin(1.01*x_2 - 0.28) + 0.19) + 0.99*tan((asinh(tanh(sin(0.94*tan(sin(1.01*x_8 - 0.14))))) + 0.17)*cos(asinh(1.01*x_8 - 0.e-2))) + 1.01*tan(tanh(asinh(0.97*x_3 + 0.02) + 0.64)**18 - 0.04)*tanh(cosh(cosh(sin(0.97*x_3 + 0.02)))) - 0.07*sinh(tan(tanh(tanh(1.0*x_15 + 0.01)*Abs(tan(cos(1.0*x_15 + 0.26)))) + 0.14)) - 0.82*tanh(0.82*x_6 - 1.16) - 1.0*tanh((0.66*x_12**2/sqrt(0.97*x_12**4 + 1) - 0.4)*tanh(sinh(0.99*x_12) + 0.68) + 0.12) + 0.11*Abs(7.68*x_14 + 8.67) + 1.0*asinh(0.32*exp(1.0*x_13) - 0.32*sinh(cos(0.97*sinh(cos(1.13*x_13 - 0.19))))) - 1.0*atan(0.62*Abs(0.99*x_4 + sinh(sin(sin(atan(0.78*sinh(0.99*x_4 - 2.14))**2))) - 0.02))**3 + 0.83*atanh(0.16*x_16 + 0.73) - 4.46 - 0.29*exp(-0.19*(x_10 - 0.17)**2))) + 3.98*cos(-0.66*x_1 + 1.06*x_2 + 1.04*(-1.02*x_5 + sqrt(exp(atan(2.92*x_5 - 0.01))) - 1.45)*Abs(cos(1.02*x_5 + cos(0.42*x_5))) - 1.04*exp(0.41*x_11)*sin(0.27*cos(1.33*x_11 + 0.32) + 0.02) + 1.05*log(log(0.24*sin(0.91*exp(-asinh(asinh(1.0*x_9 + 1.21)/cos(cos(0.98*exp(1.0*x_9)))))) + 1) + 1) + 11.39*sin(Abs(log(asinh(cos(log(Abs(0.71*x_7 - 0.18) + 1))) + 1)**3 + 0.14) - 0.11) + 0.99*sin(0.71*x_1 + sin(0.71*x_1 - 6.07) - 5.59) - 1.13*sin(1.01*x_2 + sin(1.01*x_2 - 0.28) + 0.19) + 1.05*tan((asinh(tanh(sin(0.94*tan(sin(1.01*x_8 - 0.14))))) + 0.17)*cos(asinh(1.01*x_8 - 0.e-2))) + 1.07*tan(tanh(asinh(0.97*x_3 + 0.02) + 0.64)**18 - 0.04)*tanh(cosh(cosh(sin(0.97*x_3 + 0.02)))) - 0.08*sinh(tan(tanh(tanh(1.0*x_15 + 0.01)*Abs(tan(cos(1.0*x_15 + 0.26)))) + 0.14)) - 0.87*tanh(0.82*x_6 - 1.16) - 1.06*tanh((0.66*x_12**2/sqrt(0.97*x_12**4 + 1) - 0.4)*tanh(sinh(0.99*x_12) + 0.68) + 0.12) + 0.12*Abs(7.68*x_14 + 8.67) + 1.06*asinh(0.32*exp(1.0*x_13) - 0.32*sinh(cos(0.97*sinh(cos(1.13*x_13 - 0.19))))) - 1.07*atan(0.62*Abs(0.99*x_4 + sinh(sin(sin(atan(0.78*sinh(0.99*x_4 - 2.14))**2))) - 0.02))**3 + 0.88*atanh(0.16*x_16 + 0.73) - 4.74 - 0.31*exp(-0.19*(x_10 - 0.17)**2)) + 1.01*tan(0.16*exp(1.0*(0.55*sin(0.5*x_6) + 0.24)*log(sin(1.01*x_6 + 0.01) + 1.42) - 1.78*sin(0.33*x_12 + 5.14) + 1.0*sin(Abs(log(asinh(cos(log(Abs(1.01*x_10 - 0.41) + 1))) + 1)**3 + 0.14) - 0.11) - 1.06*sin(sin(0.98*x_8 - 1.27))**20 + 0.99*tan(1.76*atan(sin((-0.09*x_16 - sin(0.24*x_16 + 0.01)**3 - 0.59)**3)) + 3.02) - 1.0*tan(0.09*x_9 + 0.23*sin(-1.33*x_9 + 1.33*sin(1.0*x_9 - 0.34) + 0.93) - 0.03) - 1.06*tan(sinh(tanh(asinh(0.98*x_8 - 0.03) + 0.09)**7)) + 1.02*tan(asinh(atan(0.43*x_4 + 0.22*sin(0.91*x_4)**4 + 0.12)**2 - 0.06)) - 0.07*sinh(1.01*x_14 + 0.02) + 0.06*sinh(1.33*x_2 - 0.35) + 0.07*cosh(1.01*x_14 + 0.02) - 0.06*cosh(1.33*x_2 - 0.35) + 2.0*tanh((0.35*(0.52*x_11 + 1)**2/sqrt(0.27*(0.52*x_11 + 1)**4 + 1) - 0.4)*tanh(sinh(0.37*x_11 + 0.72) + 0.68) + 0.12) + 1.0*tanh(sinh(sinh(1.32*x_14 + 0.03))) - 0.8*tanh(sinh(sinh(1.72*x_2 - 0.46))) + 0.07*asinh(1.03*(x_14 + 0.02)**2)**3 - 0.06*asinh(1.76*(x_2 - 0.27)**2)**3 - 0.78*asinh(0.21*exp(0.84*x_15) - 0.32*sinh(cos(0.97*sinh(cos(0.95*x_15 - 0.63))))) + 0.95*atan(0.96*x_5 - 1.58) - 0.07*Max(0, 6.92*x_7 - 0.61) - 5.22*exp(-0.04*(-0.86*x_3 - 1)**2) + 1.91*exp(-0.07*(-x_1 - 0.45)**2))/(log(0.24*sin(0.91*exp(asinh(asinh(0.54*x_13 + 0.83)/cos(cos(0.13*exp(-0.54*x_13)))))) + 1) + 1)**3.71) + 1.54*tan((asinh(tanh(sin(0.94*tan(sin(1.01*x_8 - 0.14))))) + 0.17)*cos(asinh(1.01*x_8 - 0.e-2))) + 1.57*tan(tanh(asinh(0.97*x_3 + 0.02) + 0.64)**18 - 0.04)*tanh(cosh(cosh(sin(0.97*x_3 + 0.02)))) - 0.12*sinh(tan(tanh(tanh(1.0*x_15 + 0.01)*Abs(tan(cos(1.0*x_15 + 0.26)))) + 0.14)) - 1.27*tanh(0.82*x_6 - 1.16) - 1.54*tanh((0.66*x_12**2/sqrt(0.97*x_12**4 + 1) - 0.4)*tanh(sinh(0.99*x_12) + 0.68) + 0.12) + 0.18*Abs(7.68*x_14 + 8.67) + 1.55*asinh(0.32*exp(1.0*x_13) - 0.32*sinh(cos(0.97*sinh(cos(1.13*x_13 - 0.19))))) + 4.99*atan(1.0*(0.55*sin(0.5*x_6) + 0.24)*log(sin(1.01*x_6 + 0.01) + 1.42) - 3.71*log(log(0.24*sin(0.91*exp(asinh(asinh(0.54*x_13 + 0.83)/cos(cos(0.13*exp(-0.54*x_13)))))) + 1) + 1) - 1.78*sin(0.33*x_12 + 5.14) + 1.0*sin(Abs(log(asinh(cos(log(Abs(1.01*x_10 - 0.41) + 1))) + 1)**3 + 0.14) - 0.11) - 1.06*sin(sin(0.98*x_8 - 1.27))**20 + 0.99*tan(1.76*atan(sin((-0.09*x_16 - sin(0.24*x_16 + 0.01)**3 - 0.59)**3)) + 3.02) - 1.0*tan(0.09*x_9 + 0.23*sin(-1.33*x_9 + 1.33*sin(1.0*x_9 - 0.34) + 0.93) - 0.03) - 1.06*tan(sinh(tanh(asinh(0.98*x_8 - 0.03) + 0.09)**7)) + 1.02*tan(asinh(atan(0.43*x_4 + 0.22*sin(0.91*x_4)**4 + 0.12)**2 - 0.06)) - 0.07*sinh(1.01*x_14 + 0.02) + 0.06*sinh(1.33*x_2 - 0.35) + 0.07*cosh(1.01*x_14 + 0.02) - 0.06*cosh(1.33*x_2 - 0.35) + 2.0*tanh((0.35*(0.52*x_11 + 1)**2/sqrt(0.27*(0.52*x_11 + 1)**4 + 1) - 0.4)*tanh(sinh(0.37*x_11 + 0.72) + 0.68) + 0.12) + 1.0*tanh(sinh(sinh(1.32*x_14 + 0.03))) - 0.8*tanh(sinh(sinh(1.72*x_2 - 0.46))) + 0.07*asinh(1.03*(x_14 + 0.02)**2)**3 - 0.06*asinh(1.76*(x_2 - 0.27)**2)**3 - 0.78*asinh(0.21*exp(0.84*x_15) - 0.32*sinh(cos(0.97*sinh(cos(0.95*x_15 - 0.63))))) + 0.95*atan(0.96*x_5 - 1.58) - 0.07*Max(0, 6.92*x_7 - 0.61) + 3.2 - 5.22*exp(-0.04*(-0.86*x_3 - 1)**2) + 1.91*exp(-0.07*(-x_1 - 0.45)**2)) - 1.56*atan(0.62*Abs(0.99*x_4 + sinh(sin(sin(atan(0.78*sinh(0.99*x_4 - 2.14))**2))) - 0.02))**3 + 1.29*atanh(0.16*x_16 + 0.73) - 7.02 - 0.45*exp(-0.19*(x_10 - 0.17)**2)\n"
     ]
    }
   ],
   "source": [
    "export_formula_to_txt(formula1, './formula1_7class.txt')\n",
    "export_formula_to_txt(formula2, './formula2_7class.txt')\n",
    "export_formula_to_txt(formula3, './formula3_7class.txt')\n",
    "export_formula_to_txt(formula4, './formula4_7class.txt')\n",
    "export_formula_to_txt(formula5, './formula5_7class.txt')\n",
    "export_formula_to_txt(formula6, './formula6_7class.txt')\n",
    "export_formula_to_txt(formula7, './formula7_7class.txt')\n",
    "\n",
    "loaded_formula1 = import_formula_from_txt('./formula1_7class.txt')\n",
    "loaded_formula2 = import_formula_from_txt('./formula2_7class.txt')\n",
    "loaded_formula3 = import_formula_from_txt('./formula3_7class.txt')\n",
    "loaded_formula4 = import_formula_from_txt('./formula4_7class.txt')\n",
    "loaded_formula5 = import_formula_from_txt('./formula5_7class.txt')\n",
    "loaded_formula6 = import_formula_from_txt('./formula6_7class.txt')\n",
    "loaded_formula7 = import_formula_from_txt('./formula7_7class.txt')\n",
    "\n",
    "print('Formula1:', loaded_formula1)\n",
    "print('Formula2:', loaded_formula2)\n",
    "print('Formula3:', loaded_formula3)\n",
    "print('Formula4:', loaded_formula4)\n",
    "print('Formula5:', loaded_formula5)\n",
    "print('Formula6:', loaded_formula6)\n",
    "print('Formula7:', loaded_formula7)"
   ]
  },
  {
   "cell_type": "code",
   "execution_count": 25,
   "id": "7f2c1234",
   "metadata": {},
   "outputs": [
    {
     "name": "stdout",
     "output_type": "stream",
     "text": [
      "Variables in the expression: {x_2, x_9, x_13, x_10, x_14, x_1, x_5, x_16, x_3, x_7, x_15, x_11, x_6, x_4, x_12, x_8}\n"
     ]
    }
   ],
   "source": [
    "variables = loaded_formula1.free_symbols\n",
    "print(\"Variables in the expression:\", variables)"
   ]
  },
  {
   "cell_type": "code",
   "execution_count": 26,
   "id": "e795589c",
   "metadata": {},
   "outputs": [],
   "source": [
    "def acc_new(f_sympy_1, f_sympy_2, f_sympy_3, f_sympy_4, f_sympy_5, f_sympy_6, f_sympy_7, X, y):\n",
    "    batch = X.shape[0]\n",
    "    correct = 0\n",
    "    res = []\n",
    "\n",
    "    x_1, x_2, x_3, x_4, x_5, x_6, x_7, x_8, x_9, x_10, x_11, x_12, x_13, x_14, x_15, x_16 = sp.symbols('x_1, x_2, x_3, x_4, x_5, x_6, x_7, x_8, x_9, x_10, x_11, x_12, x_13, x_14, x_15, x_16')\n",
    "\n",
    "    f_math_1 = sp.lambdify((x_1, x_2, x_3, x_4, x_5, x_6, x_7, x_8, x_9, x_10, x_11, x_12, x_13, x_14, x_15, x_16), f_sympy_1, modules=['mpmath'])\n",
    "    f_math_2 = sp.lambdify((x_1, x_2, x_3, x_4, x_5, x_6, x_7, x_8, x_9, x_10, x_11, x_12, x_13, x_14, x_15, x_16), f_sympy_2, modules=['mpmath'])\n",
    "    f_math_3 = sp.lambdify((x_1, x_2, x_3, x_4, x_5, x_6, x_7, x_8, x_9, x_10, x_11, x_12, x_13, x_14, x_15, x_16), f_sympy_3, modules=['mpmath'])\n",
    "    f_math_4 = sp.lambdify((x_1, x_2, x_3, x_4, x_5, x_6, x_7, x_8, x_9, x_10, x_11, x_12, x_13, x_14, x_15, x_16), f_sympy_4, modules=['mpmath'])\n",
    "    f_math_5 = sp.lambdify((x_1, x_2, x_3, x_4, x_5, x_6, x_7, x_8, x_9, x_10, x_11, x_12, x_13, x_14, x_15, x_16), f_sympy_5, modules=['mpmath'])\n",
    "    f_math_6 = sp.lambdify((x_1, x_2, x_3, x_4, x_5, x_6, x_7, x_8, x_9, x_10, x_11, x_12, x_13, x_14, x_15, x_16), f_sympy_6, modules=['mpmath'])\n",
    "    f_math_7 = sp.lambdify((x_1, x_2, x_3, x_4, x_5, x_6, x_7, x_8, x_9, x_10, x_11, x_12, x_13, x_14, x_15, x_16), f_sympy_7, modules=['mpmath'])\n",
    "    \n",
    "    mp.dps = 30\n",
    "    \n",
    "    for i in range(batch):\n",
    "        # if(i%100 == 0):\n",
    "        #     print(\"==========\", i, \" ==========\")\n",
    "\n",
    "        logit1 = f_math_1(mpf(str(X[i,0].item())), mpf(str(X[i,1].item())), mpf(str(X[i,2].item())), mpf(str(X[i,3].item())), mpf(str(X[i,4].item())), mpf(str(X[i,5].item())), mpf(str(X[i,6].item())), mpf(str(X[i,7].item())), mpf(str(X[i,8].item())), mpf(str(X[i,9].item())), mpf(str(X[i,10].item())), mpf(str(X[i,11].item())), mpf(str(X[i,12].item())), mpf(str(X[i,13].item())), mpf(str(X[i,14].item())), mpf(str(X[i,15].item())))\n",
    "        logit2 = f_math_2(mpf(str(X[i,0].item())), mpf(str(X[i,1].item())), mpf(str(X[i,2].item())), mpf(str(X[i,3].item())), mpf(str(X[i,4].item())), mpf(str(X[i,5].item())), mpf(str(X[i,6].item())), mpf(str(X[i,7].item())), mpf(str(X[i,8].item())), mpf(str(X[i,9].item())), mpf(str(X[i,10].item())), mpf(str(X[i,11].item())), mpf(str(X[i,12].item())), mpf(str(X[i,13].item())), mpf(str(X[i,14].item())), mpf(str(X[i,15].item())))\n",
    "        logit3 = f_math_3(mpf(str(X[i,0].item())), mpf(str(X[i,1].item())), mpf(str(X[i,2].item())), mpf(str(X[i,3].item())), mpf(str(X[i,4].item())), mpf(str(X[i,5].item())), mpf(str(X[i,6].item())), mpf(str(X[i,7].item())), mpf(str(X[i,8].item())), mpf(str(X[i,9].item())), mpf(str(X[i,10].item())), mpf(str(X[i,11].item())), mpf(str(X[i,12].item())), mpf(str(X[i,13].item())), mpf(str(X[i,14].item())), mpf(str(X[i,15].item())))\n",
    "        logit4 = f_math_4(mpf(str(X[i,0].item())), mpf(str(X[i,1].item())), mpf(str(X[i,2].item())), mpf(str(X[i,3].item())), mpf(str(X[i,4].item())), mpf(str(X[i,5].item())), mpf(str(X[i,6].item())), mpf(str(X[i,7].item())), mpf(str(X[i,8].item())), mpf(str(X[i,9].item())), mpf(str(X[i,10].item())), mpf(str(X[i,11].item())), mpf(str(X[i,12].item())), mpf(str(X[i,13].item())), mpf(str(X[i,14].item())), mpf(str(X[i,15].item())))\n",
    "        logit5 = f_math_5(mpf(str(X[i,0].item())), mpf(str(X[i,1].item())), mpf(str(X[i,2].item())), mpf(str(X[i,3].item())), mpf(str(X[i,4].item())), mpf(str(X[i,5].item())), mpf(str(X[i,6].item())), mpf(str(X[i,7].item())), mpf(str(X[i,8].item())), mpf(str(X[i,9].item())), mpf(str(X[i,10].item())), mpf(str(X[i,11].item())), mpf(str(X[i,12].item())), mpf(str(X[i,13].item())), mpf(str(X[i,14].item())), mpf(str(X[i,15].item())))\n",
    "        logit6 = f_math_6(mpf(str(X[i,0].item())), mpf(str(X[i,1].item())), mpf(str(X[i,2].item())), mpf(str(X[i,3].item())), mpf(str(X[i,4].item())), mpf(str(X[i,5].item())), mpf(str(X[i,6].item())), mpf(str(X[i,7].item())), mpf(str(X[i,8].item())), mpf(str(X[i,9].item())), mpf(str(X[i,10].item())), mpf(str(X[i,11].item())), mpf(str(X[i,12].item())), mpf(str(X[i,13].item())), mpf(str(X[i,14].item())), mpf(str(X[i,15].item())))\n",
    "        logit7 = f_math_7(mpf(str(X[i,0].item())), mpf(str(X[i,1].item())), mpf(str(X[i,2].item())), mpf(str(X[i,3].item())), mpf(str(X[i,4].item())), mpf(str(X[i,5].item())), mpf(str(X[i,6].item())), mpf(str(X[i,7].item())), mpf(str(X[i,8].item())), mpf(str(X[i,9].item())), mpf(str(X[i,10].item())), mpf(str(X[i,11].item())), mpf(str(X[i,12].item())), mpf(str(X[i,13].item())), mpf(str(X[i,14].item())), mpf(str(X[i,15].item())))\n",
    "\n",
    "        res.append(np.array([logit1, logit2, logit3, logit4, logit5, logit6, logit7]))\n",
    "        correct += np.argmax([logit1, logit2, logit3, logit4, logit5, logit6, logit7]) == y[i]\n",
    "\n",
    "    return correct/batch, res"
   ]
  },
  {
   "cell_type": "code",
   "execution_count": null,
   "id": "635a2d55",
   "metadata": {},
   "outputs": [],
   "source": [
    "acc, res = acc_new(loaded_formula1, loaded_formula2, loaded_formula3, loaded_formula4, loaded_formula5, loaded_formula6, loaded_formula7, dataset['test_input'], dataset['test_label'])\n",
    "\n",
    "print('Test acc of the formula:', acc)"
   ]
  }
 ],
 "metadata": {
  "kernelspec": {
   "display_name": "Python 3 (ipykernel)",
   "language": "python",
   "name": "python3"
  },
  "language_info": {
   "codemirror_mode": {
    "name": "ipython",
    "version": 3
   },
   "file_extension": ".py",
   "mimetype": "text/x-python",
   "name": "python",
   "nbconvert_exporter": "python",
   "pygments_lexer": "ipython3",
   "version": "3.9.19"
  }
 },
 "nbformat": 4,
 "nbformat_minor": 5
}
